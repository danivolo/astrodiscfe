{
 "cells": [
  {
   "cell_type": "code",
   "execution_count": null,
   "id": "d763824b",
   "metadata": {
    "vscode": {
     "languageId": "plaintext"
    }
   },
   "outputs": [],
   "source": []
  },
  {
   "cell_type": "markdown",
   "id": "562f8996",
   "metadata": {},
   "source": [
    "### Derivazione della forma quadratica $a(u,v)$\n",
    "\n",
    "La nostra equazione è\n",
    "\n",
    "$$\\frac{\\partial \\Sigma}{\\partial t} = \\frac{3}{r}\\frac{\\partial}{\\partial r}r^{1/2}\\frac{\\partial}{\\partial r}r^{1/2}\\nu \\Sigma.$$\n",
    "\n",
    "dove prendiamo $\\nu = Ar^{\\alpha}$, ottenendo\n",
    "$$\\frac{\\partial \\Sigma}{\\partial t} = \\frac{3A}{r}\\frac{\\partial}{\\partial r}r^{1/2}\\frac{\\partial}{\\partial r}r^{\\alpha+1/2} \\Sigma.$$\n",
    "\n",
    "L'equazione diventa più trattabile passando alla variabile $u=2\\pi r \\Sigma$, $\\Sigma = u/2\\pi r$:\n",
    "\n",
    "$$\n",
    "\\begin{align*}\n",
    "\\frac{\\partial}{\\partial t}\\frac{u}{2\\pi r}\n",
    "&= \\frac{3A}{r}\\frac{\\partial}{\\partial r}r^{1/2}\\frac{\\partial}{\\partial r}r^{\\alpha+1/2}\\frac{u}{2\\pi r}\\\\\n",
    "&= 3A\\frac{\\partial}{\\partial r}r^{1/2}\\frac{\\partial}{\\partial r}r^{\\alpha-1/2}u\n",
    "\\end{align*}\n",
    "$$\n",
    "\n",
    "Scegliamo $A=1/3$ per eliminare il prefattore e semplifichiamo:\n",
    "\n",
    "$$\n",
    "\\begin{align*}\n",
    "\\frac{\\partial u}{\\partial t} \n",
    "&= \\frac{\\partial}{\\partial r}r^{1/2}\\frac{\\partial}{\\partial r}r^{\\alpha-1/2}u \\\\\n",
    "&= \\frac{\\partial}{\\partial r}\n",
    "\\left[\n",
    "    r^{1/2}r^{\\alpha-1/2}\\frac{\\partial u}{\\partial r}\n",
    "    +r^{1/2}\\left(\\frac{\\partial}{\\partial r}r^{\\alpha-1/2}\\right)u\n",
    "\\right]\\\\\n",
    "&=\\frac{\\partial}{\\partial r}\n",
    "\\left[r^{\\alpha} \\frac{\\partial u}{\\partial r} +\n",
    "    r^{1/2}\\left(\\alpha-\\frac{1}{2}\\right)r^{\\alpha-3/2} u\n",
    "\\right]\\\\\n",
    "&=\\frac{\\partial}{\\partial r}\n",
    "\\left[r^{\\alpha} \\frac{\\partial u}{\\partial r} +\n",
    "    \\left(\\alpha-\\frac{1}{2}\\right)r^{\\alpha-1} u\n",
    "\\right]\n",
    "\\end{align*}$$"
   ]
  },
  {
   "cell_type": "markdown",
   "id": "5ed960d3",
   "metadata": {},
   "source": [
    "\n",
    "Lo portiamo nella forma del Quarteroni che vuole:\n",
    "\n",
    "$$\\frac{\\partial u}{\\partial t} + L(u) = 0$$\n",
    "$$L(u) = \\frac{\\partial}{\\partial r}\\left(-\\mu\\frac{\\partial u}{\\partial r} + b u\\right)$$\n",
    "e quindi \n",
    "\n",
    "$$\n",
    "\\begin{align*}\n",
    "L(u)\n",
    "&=\\frac{\\partial}{\\partial r}\n",
    "\\left[-r^{\\alpha} \\frac{\\partial u}{\\partial r}\n",
    "    -\\left(\\alpha-\\frac{1}{2}\\right)r^{\\alpha-1} u\n",
    "\\right]\n",
    "\\end{align*}\n",
    "$$\n",
    "\n",
    "$$\\mu = r^{\\alpha}$$\n",
    "$$b = -\\left(\\alpha - \\frac{1}{2}\\right)r^{\\alpha-1}$$\n",
    "\n"
   ]
  },
  {
   "cell_type": "markdown",
   "id": "4124f8bf",
   "metadata": {},
   "source": [
    "Notiamo che con questa convenzione, se trascuriamo $\\mu$ e consideriamo $b$ costante, $b>0$ implica trasporto verso destra (onda progressiva):\n",
    "\n",
    "$$\\frac{\\partial u}{\\partial t} + b\\frac{\\partial u}{\\partial r} = 0$$\n",
    "$$u = u(r-t/b)$$"
   ]
  },
  {
   "cell_type": "markdown",
   "id": "129fca46",
   "metadata": {},
   "source": [
    "Un caso semplice è quello $\\alpha=0$ in cui abbiamo viscosità costante e trasporto dato da\n",
    "$$b=\\frac{1}{2r}$$\n",
    "\n",
    "La cosa strana però è che nonostante $b>0$ la soluzione esatta si sposta verso sinistra. Questo mostra che quando i coefficienti non sono costanti l'interpretazione non è banale."
   ]
  },
  {
   "cell_type": "markdown",
   "id": "d07bc3cb",
   "metadata": {},
   "source": [
    "### Matrice di massa\n",
    "La matrice di massa per grado 1 mi esce: diag(-1,4,-1)/6h"
   ]
  },
  {
   "cell_type": "markdown",
   "id": "cd5bbcc6",
   "metadata": {},
   "source": []
  }
 ],
 "metadata": {
  "language_info": {
   "name": "python"
  }
 },
 "nbformat": 4,
 "nbformat_minor": 5
}
