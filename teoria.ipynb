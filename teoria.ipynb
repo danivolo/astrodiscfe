{
 "cells": [
  {
   "cell_type": "markdown",
   "id": "a9707d8b",
   "metadata": {},
   "source": [
    "# Equazione di diffusione-trasporto-reazione con metodo delle linee/Galerkin"
   ]
  },
  {
   "cell_type": "markdown",
   "id": "467f9abb",
   "metadata": {},
   "source": [
    "\n",
    "## Equazione dell'evoluzione temporale di dischi di accrescimento\n",
    "L'obiettivo di questo progetto è di risolvere la seguente equazione parabolica nella variabile $\\Sigma$:\n",
    "\n",
    "$$\\frac{\\partial \\Sigma}{\\partial t} = \\frac{3}{r}\\frac{\\partial}{\\partial r}r^{1/2}\\frac{\\partial}{\\partial r}r^{1/2}\\nu \\Sigma.$$\n",
    "\n",
    "$\\Sigma(r,t)$ rappresenta la densità superficiale di massa di un disco di accrescimento assialmente simmetrico, $\\nu = Ar^{\\alpha}$ descrive la viscosità (data nei dischi astronomici dall'interazione tra mulinelli di turbolenza) che si prende come una legge di potenza dove alcuni indici di interesse sono $\\alpha = 1/2, -3/10$. Con questa scelta l'equazione è lineare.\n",
    "\n",
    "L'equazione diventa più trattabile passando alla variabile $u=2\\pi r \\Sigma$:\n",
    "\n",
    "$$\\frac{\\partial u}{\\partial t} = 3A\\frac{\\partial}{\\partial r}r^{1/2}\\frac{\\partial}{\\partial r}r^{\\alpha-1/2}u$$\n",
    "\n",
    "$$\\frac{\\partial u}{\\partial t} - 3A\\frac{\\partial}{\\partial r}\n",
    "\\left[r^{\\alpha} \\frac{\\partial u}{\\partial r} +\n",
    "    \\left(\\alpha-\\frac{1}{2}\\right)r^{\\alpha-1} u\n",
    "\\right]=0$$\n",
    "\n",
    "ovvero\n",
    "\n",
    "$$\\frac{\\partial u}{\\partial t} + L(u) = 0$$\n",
    "\n",
    "dove l'operatore ellittico $L$ è dato da\n",
    "\n",
    "$$L(u) = \\frac{\\partial}{\\partial r}\\left(-\\mu\\frac{\\partial u}{\\partial r} + b u\\right)$$\n",
    "\n",
    "con $\\mu = 3A r^{\\alpha}$, $b = -3A\\left(\\alpha - \\frac{1}{2}\\right)r^{\\alpha-1}$."
   ]
  },
  {
   "cell_type": "markdown",
   "id": "ce9ac268",
   "metadata": {},
   "source": [
    "## Condizioni al contorno \"aperte\"\n",
    "Le condizioni al contorno sono di Dirichlet omogenee tra un raggio minimo $r_{min}>0$ e un raggio $R$ di cutoff.\n",
    "\n",
    "Riscriviamo l'equazione per il raggio adimensionale $x = r/R$, ovvero \n",
    "$$\\frac{\\partial}{\\partial r} = \\frac{1}{R}\\frac{\\partial}{\\partial x}$$\n",
    "\n",
    "e abbiamo \n",
    "\n",
    "$$L(u) = \\frac{1}{R}\\frac{\\partial}{\\partial x}\\left(-3AR^{\\alpha}x^{\\alpha}\\frac{1}{R}\\frac{\\partial u}{\\partial x}\n",
    "- 3A\\left(\\alpha-\\frac{1}{2}\\right)R^{\\alpha-1}x^{\\alpha-1}u\\right)$$\n",
    "$$= \\frac{\\partial}{\\partial x}\\left(-3AR^{\\alpha-2}x^{\\alpha}\\frac{\\partial u}{\\partial x}\n",
    "- 3A\\left(\\alpha-\\frac{1}{2}\\right)R^{\\alpha-2}x^{\\alpha-1}u\\right)$$\n",
    "\n",
    "Ovvero \n",
    "$$\\mu(x) = C x^{\\alpha}$$\n",
    "$$b(x) = -C\\left(\\alpha - \\frac{1}{2}\\right)x^{\\alpha-1}$$\n",
    "\n",
    "dove $C = 3A R^{\\alpha-2}$.\n",
    "\n",
    "Le condizioni al contorno diventano $u(x_{min}) = u(r_{min}/R) = u(1) = 0$."
   ]
  },
  {
   "cell_type": "markdown",
   "id": "34084675",
   "metadata": {},
   "source": [
    "## Approccio alternativo\n",
    "- Scegliamo $A=1/3$ per semplificare l'equazione, così il fattore $3A$ non esiste, che tanto a noi non interessa il significato fisico\n",
    "- Chi ci dice che dobbiamo prendere $r$ grande? Prendiamo già $r_{\\textrm{max}}=1$, e scegliamo $r_{\\textrm{min}}$\n",
    "- così abbiamo $\\mu = r^{\\alpha}$, $b = -\\left(\\alpha - \\frac{1}{2}\\right)r^{\\alpha-1}$."
   ]
  },
  {
   "cell_type": "markdown",
   "id": "730699df",
   "metadata": {},
   "source": [
    "## Formulazione debole e sua approssimazione\n",
    "\n",
    "Prendiamo l'equazione e moltiplichiamola per ogni $t>0$ per una funzione test $v=v(x)$ integrando su $\\Omega$.\n",
    "Lo spazio di funzioni test $V$ è lo spazio di funzioni $H^1(\\Omega)$ che si annullano in $x_{min}$ e 1.\n",
    "\n",
    "L'equazione diventa:\n",
    "\n",
    "$$\\int_{\\Omega} \\dot{u(t)}v\\, d\\Omega + a(u(t),v) = 0$$\n",
    "\n",
    "dove\n",
    "\n",
    "$$a(u,v) = \\int_{\\Omega} \\left(\\mu u' - b u\\right)v'\\, d\\Omega,$$\n",
    "\n",
    "con il punto che indica la derivata temporale, l'apostrofo la derivata spaziale.\n",
    "\n",
    "L'approssimazione di Galerkin del problema si ottiene scegliendo in uno spazio $V_h \\subset V$ a dimensione finita $N_h$ una base $\\{\\phi_j\\}$:\n",
    "\n",
    "$$u_h(x,t) = \\sum_{j=1}^{N_h} u_j(t)\\phi_j(x)$$\n",
    "\n",
    "così che l'equazione in forma debole diventa\n",
    "\n",
    "$$\\sum_{j=1}^{N_h}\\left(\n",
    "    \\dot{u}_j(t) \\int_{\\Omega} \\phi_j \\phi_i\\, d\\Omega + u_j(t) a(\\phi_j,\\phi_i) = 0\n",
    "\\right)$$\n",
    "\n",
    "ovvero, definendo il vettore delle incognite $\\mathbf{u} = (u_1(t), \\dots,u_{N_h}(t))^T$, la matrice di massa $M = [\\int_{\\Omega} \\phi_j \\phi_i\\,d\\Omega]$ e la matrice di rigidezza $A = [a(\\phi_j,\\phi_i)]$ il sistema può essere riscritto nella forma\n",
    "\n",
    "$$M\\dot{\\mathbf{u}(t)} + A\\mathbf{u}(t) = 0$$\n",
    "\n",
    "Discretizziamo l'equazione con il metodo di Crank-Nicolson:\n",
    "\n",
    "$$M\\frac{\\mathbf{u}^{k+1}-\\mathbf{u}^k}{\\Delta t} + \\frac{1}{2}A(\\mathbf{u}^{k+1}+\\mathbf{u}^k) = 0.$$\n",
    "\n",
    "Il sistema da risolvere è:\n",
    "\n",
    "$$K\\mathbf{u}^{k+1} = \\mathbf{g}$$\n",
    "\n",
    "dove $K = M/\\Delta t + A/2$, $\\mathbf{g} = (M/\\Delta t - A/2)\\mathbf{u}^k$.\n",
    "\n",
    "Moltiplica per delta t"
   ]
  },
  {
   "cell_type": "markdown",
   "id": "94bdd557",
   "metadata": {},
   "source": [
    "# Cosa voglio dare a semplice stasera\n",
    "Un notebook di jupyter funzionante con il codice main e analisi dove si veda:\n",
    "- intro teorica: nuova\n",
    "- definizioni griglia, FE, M, A\n",
    "- definizione di advance con krank nicolson\n",
    "\n",
    "Filmini (cartelle di frame):\n",
    "- u(t) vs exact(t) con alpha = 0 (diffusione costante), 1/2 (no trasporto), 3/4 (misto) con risoluzione un po' bassa, fino a quando la soluzione è più larga del dominio, per far vedere che l'integratore funziona.\n",
    "2x2 u e u' con differenze"
   ]
  }
 ],
 "metadata": {
  "language_info": {
   "name": "python"
  }
 },
 "nbformat": 4,
 "nbformat_minor": 5
}
