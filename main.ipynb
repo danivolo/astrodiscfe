{
 "cells": [
  {
   "cell_type": "markdown",
   "metadata": {},
   "source": [
    "# Il metodo di Galerkin per equazioni paraboliche con diffusione e trasporto non costanti\n",
    "\n",
    "Il notebook ha la seguente struttura:\n",
    "- Introduzione teorica all'equazione di evoluzione dei dischi e alla discretizzazione di Galerkin\n",
    "- Definizioni di griglia, elementi finiti, calcolo delle matrici $M$ e $A$, integratore temporale di Crank-Nicolson \n",
    "- Calcolo della soluzione esatta a partire dalla soluzione fondamentale dell'equazione (con possibili modifiche per stabilità numerica)\n"
   ]
  },
  {
   "cell_type": "markdown",
   "metadata": {},
   "source": [
    "# Introduzione teorica"
   ]
  },
  {
   "cell_type": "markdown",
   "metadata": {},
   "source": [
    "### L'equazione di evoluzione dei dischi\n",
    "L'obiettivo di questo progetto è di risolvere la seguente equazione parabolica nella variabile $\\Sigma$:\n",
    "\n",
    "$$\\frac{\\partial \\Sigma}{\\partial t} = \\frac{3}{r}\\frac{\\partial}{\\partial r}r^{1/2}\\frac{\\partial}{\\partial r}r^{1/2}\\nu \\Sigma.$$\n",
    "\n",
    "$\\Sigma(r,t)$ rappresenta la densità superficiale di massa di un disco di accrescimento assialmente simmetrico, $\\nu = Ar^{\\alpha}$ descrive la viscosità (data nei dischi astronomici dall'interazione tra mulinelli di turbolenza) che si prende come una legge di potenza dove alcuni indici di interesse sono $\\alpha = 1/2, -3/10$. Con questa scelta l'equazione è lineare e otteniamo:\n",
    "\n",
    "$$\\frac{\\partial \\Sigma}{\\partial t} = \\frac{3A}{r}\\frac{\\partial}{\\partial r}r^{1/2}\\frac{\\partial}{\\partial r}r^{\\alpha+1/2} \\Sigma.$$\n",
    "\n",
    "L'equazione diventa più trattabile passando alla variabile $u=2\\pi r \\Sigma$, $\\Sigma = u/2\\pi r$:\n",
    "\n",
    "$$\n",
    "\\begin{align*}\n",
    "\\frac{\\partial}{\\partial t}\\frac{u}{2\\pi r}\n",
    "&= \\frac{3A}{r}\\frac{\\partial}{\\partial r}r^{1/2}\\frac{\\partial}{\\partial r}r^{\\alpha+1/2}\\frac{u}{2\\pi r}\\\\\n",
    "&= 3A\\frac{\\partial}{\\partial r}r^{1/2}\\frac{\\partial}{\\partial r}r^{\\alpha-1/2}u\n",
    "\\end{align*}\n",
    "$$\n",
    "\n",
    "Scegliamo $A=1/3$ per eliminare il prefattore e semplifichiamo:\n",
    "\n",
    "$$\n",
    "\\begin{align*}\n",
    "\\frac{\\partial u}{\\partial t} \n",
    "&= \\frac{\\partial}{\\partial r}r^{1/2}\\frac{\\partial}{\\partial r}r^{\\alpha-1/2}u \\\\\n",
    "&= \\frac{\\partial}{\\partial r}\n",
    "\\left[\n",
    "    r^{1/2}r^{\\alpha-1/2}\\frac{\\partial u}{\\partial r}\n",
    "    +r^{1/2}\\left(\\frac{\\partial}{\\partial r}r^{\\alpha-1/2}\\right)u\n",
    "\\right]\\\\\n",
    "&=\\frac{\\partial}{\\partial r}\n",
    "\\left[r^{\\alpha} \\frac{\\partial u}{\\partial r} +\n",
    "    r^{1/2}\\left(\\alpha-\\frac{1}{2}\\right)r^{\\alpha-3/2} u\n",
    "\\right]\\\\\n",
    "&=\\frac{\\partial}{\\partial r}\n",
    "\\left[r^{\\alpha} \\frac{\\partial u}{\\partial r} +\n",
    "    \\left(\\alpha-\\frac{1}{2}\\right)r^{\\alpha-1} u\n",
    "\\right]\n",
    "\\end{align*}$$"
   ]
  },
  {
   "cell_type": "markdown",
   "metadata": {},
   "source": [
    "### Forma canonica"
   ]
  },
  {
   "cell_type": "markdown",
   "metadata": {},
   "source": [
    "\n",
    "Lo portiamo nella forma del Quarteroni che vuole:\n",
    "\n",
    "$$\\frac{\\partial u}{\\partial t} + L(u) = 0$$\n",
    "$$L(u) = \\frac{\\partial}{\\partial r}\\left(-\\mu\\frac{\\partial u}{\\partial r} + b u\\right)$$\n",
    "e quindi \n",
    "\n",
    "$$\n",
    "\\begin{align*}\n",
    "L(u)\n",
    "&=\\frac{\\partial}{\\partial r}\n",
    "\\left[-r^{\\alpha} \\frac{\\partial u}{\\partial r}\n",
    "    -\\left(\\alpha-\\frac{1}{2}\\right)r^{\\alpha-1} u\n",
    "\\right]\n",
    "\\end{align*}\n",
    "$$\n",
    "\n",
    "$$\\mu = r^{\\alpha}$$\n",
    "$$b = -\\left(\\alpha - \\frac{1}{2}\\right)r^{\\alpha-1}$$\n",
    "\n"
   ]
  },
  {
   "cell_type": "markdown",
   "metadata": {},
   "source": [
    "### Coefficiente di trasporto"
   ]
  },
  {
   "cell_type": "markdown",
   "metadata": {},
   "source": [
    "Notiamo che con questa convenzione, se trascuriamo $\\mu$ e consideriamo $b$ costante, $b>0$ implica trasporto verso destra (onda progressiva):\n",
    "\n",
    "$$\\frac{\\partial u}{\\partial t} + b\\frac{\\partial u}{\\partial r} = 0$$\n",
    "$$u = u(r-t/b)$$\n",
    "\n",
    "Un caso semplice è quello $\\alpha=0$ in cui abbiamo viscosità costante e trasporto dato da\n",
    "$$b=\\frac{1}{2r}$$\n",
    "\n",
    "La cosa strana però è che nonostante $b>0$ la soluzione esatta si sposta verso sinistra. Questo mostra che quando i coefficienti non sono costanti l'interpretazione non è banale."
   ]
  },
  {
   "cell_type": "markdown",
   "metadata": {},
   "source": [
    "## Il metodo di Galerkin per equazioni paraboliche"
   ]
  },
  {
   "cell_type": "markdown",
   "metadata": {},
   "source": [
    "### Formulazione debole e sua approssimazione\n",
    "\n",
    "Prendiamo l'equazione e moltiplichiamola per ogni $t>0$ per una funzione test $v=v(x)$ integrando su $\\Omega$.\n",
    "Lo spazio di funzioni test $V$ è lo spazio di funzioni $H^1(\\Omega)$ che si annullano in $x_{min}$ e 1.\n",
    "\n",
    "L'equazione diventa:\n",
    "\n",
    "$$\\int_{\\Omega} \\dot{u(t)}v\\, d\\Omega + a(u(t),v) = 0$$\n",
    "\n",
    "dove\n",
    "\n",
    "$$a(u,v) = \\int_{\\Omega} \\left(\\mu u' - b u\\right)v'\\, d\\Omega,$$\n",
    "\n",
    "con il punto che indica la derivata temporale, l'apostrofo la derivata spaziale.\n",
    "\n",
    "L'approssimazione di Galerkin del problema si ottiene scegliendo in uno spazio $V_h \\subset V$ a dimensione finita $N_h$ una base $\\{\\phi_j\\}$:\n",
    "\n",
    "$$u_h(x,t) = \\sum_{j=1}^{N_h} u_j(t)\\phi_j(x)$$\n",
    "\n",
    "così che l'equazione in forma debole diventa\n",
    "\n",
    "$$\\sum_{j=1}^{N_h}\\left(\n",
    "    \\dot{u}_j(t) \\int_{\\Omega} \\phi_j \\phi_i\\, d\\Omega + u_j(t) a(\\phi_j,\\phi_i) = 0\n",
    "\\right)$$\n",
    "\n",
    "ovvero, definendo il vettore delle incognite $\\mathbf{u} = (u_1(t), \\dots,u_{N_h}(t))^T$, la matrice di massa $M = [\\int_{\\Omega} \\phi_j \\phi_i\\,d\\Omega]$ e la matrice di rigidezza $A = [a(\\phi_j,\\phi_i)]$ il sistema può essere riscritto nella forma\n",
    "\n",
    "$$M\\dot{\\mathbf{u}(t)} + A\\mathbf{u}(t) = 0$$"
   ]
  },
  {
   "cell_type": "markdown",
   "metadata": {},
   "source": [
    "### Discretizzazione temporale"
   ]
  },
  {
   "cell_type": "markdown",
   "metadata": {},
   "source": [
    "Discretizziamo l'equazione con il metodo di Crank-Nicolson:\n",
    "\n",
    "$$M\\frac{\\mathbf{u}^{k+1}-\\mathbf{u}^k}{\\Delta t} + \\frac{1}{2}A(\\mathbf{u}^{k+1}+\\mathbf{u}^k) = 0.$$\n",
    "\n",
    "Il sistema da risolvere è:\n",
    "\n",
    "$$K\\mathbf{u}^{k+1} = \\mathbf{g}$$\n",
    "\n",
    "dove $K = M + A\\Delta t/2$, $\\mathbf{g} = (M - A\\Delta t/2)\\mathbf{u}^k$."
   ]
  },
  {
   "cell_type": "markdown",
   "metadata": {},
   "source": [
    "# Codice preliminare"
   ]
  },
  {
   "cell_type": "markdown",
   "metadata": {},
   "source": [
    "### Pacchetti"
   ]
  },
  {
   "cell_type": "code",
   "execution_count": 2,
   "metadata": {},
   "outputs": [],
   "source": [
    "import numpy as np\n",
    "import matplotlib.pyplot as plt\n",
    "from tqdm import tqdm # barre di caricamento\n",
    "from numpy.polynomial import Polynomial, polynomial # FE\n",
    "from scipy.interpolate import lagrange # FE\n",
    "from numpy.polynomial.legendre import leggauss # quadratura\n",
    "from scipy.linalg import solve # non usata per ora\n",
    "from scipy.sparse import csc_matrix # matrici sparse\n",
    "from scipy.sparse.linalg import spsolve # risolutore sparso\n",
    "from scipy.signal import convolve # metodo veloce per alcune funzioni di green\n",
    "from scipy.optimize import curve_fit\n",
    "from scipy.special import iv, gamma\n",
    "from pathlib import Path\n",
    "from scipy.interpolate import make_splrep # interpolazione\n",
    "import pickle # salvataggio dati\n",
    "plt.rcParams.update({ # latex\n",
    "    \"text.usetex\": True,\n",
    "    \"font.family\": \"CM Roman\"\n",
    "})\n",
    "import subprocess # comandi shell"
   ]
  },
  {
   "cell_type": "markdown",
   "metadata": {},
   "source": [
    "### Utilità varie"
   ]
  },
  {
   "cell_type": "code",
   "execution_count": null,
   "metadata": {},
   "outputs": [],
   "source": [
    "def quad(f,deg,a=0,b=1):\n",
    "    # quadratura gaussiana\n",
    "    x, w = leggauss(deg)\n",
    "    x = (x+1)/2\n",
    "    w /= 2\n",
    "    h = (b-a)\n",
    "    X = a + h*x\n",
    "    I = sum(w*f(X))*h\n",
    "    return I\n",
    "\n",
    "def LTGdd(ndof,NumEl):\n",
    "    #matrice local to global per condizioni al contorno di dirichlet\n",
    "    N = ndof*NumEl-1\n",
    "    right = np.r_[np.arange(N),-1].reshape((-1,ndof))\n",
    "    left = np.r_[-1,right[:-1,-1]].reshape((-1,1))\n",
    "    return np.c_[left,right]\n",
    "\n",
    "def assemble_from_LTG(LTG,contribution):\n",
    "    # costruisce M o A a partire da contributi locali\n",
    "    # contribution(k,j,l) dove k e j righe e colonne, l indice di x\n",
    "    matrix = np.zeros((np.max(LTG)+1,np.max(LTG)+1))\n",
    "    for l in tqdm(range(LTG.shape[0]),leave=False):\n",
    "        for k in range(LTG.shape[1]):\n",
    "            row = LTG[l,k]\n",
    "            if row<0:\n",
    "                continue\n",
    "            for j in range(LTG.shape[1]):\n",
    "                col = LTG[l,j]\n",
    "                if col<0:\n",
    "                    continue\n",
    "                matrix[row,col] += contribution(k,j,l)\n",
    "    return matrix\n",
    "\n",
    "def line(x,m,q):\n",
    "    return m*x+q\n",
    "\n",
    "def fix_lims(ax,condition):\n",
    "    global xlim0, ylim0\n",
    "    if condition:\n",
    "        xlim0 = ax.get_xlim()\n",
    "        ylim0 = ax.get_ylim()\n",
    "    else:\n",
    "        ax.set_xlim(xlim0)\n",
    "        ax.set_ylim(ylim0)"
   ]
  },
  {
   "cell_type": "markdown",
   "metadata": {},
   "source": [
    "### Griglia e calcolo di $M$"
   ]
  },
  {
   "cell_type": "code",
   "execution_count": null,
   "metadata": {},
   "outputs": [],
   "source": [
    "class GRID:\n",
    "    def __init__(self, a, b, NumEl, scaling=\"lin\",ndof=1,getM=False,NgridM=100,fe=None,gaussdeg=None):\n",
    "        # Inizializza una griglia per metodo di Galerkin\n",
    "        # precalcola opzionalmente la matrice di massa\n",
    "\n",
    "        if a>b:\n",
    "            a, b = b, a \n",
    "        self.NumEl = NumEl \n",
    "        self.ndof = ndof\n",
    "        self.DegOfFreedom = ndof*NumEl-1\n",
    "        if scaling==\"lin\":\n",
    "            self.V = np.linspace(a, b, NumEl+1)\n",
    "        elif scaling==\"log\": # per ora non lo uso mai\n",
    "            self.V = np.logspace(a, b, NumEl+1)\n",
    "        self.ElemSize = np.diff(self.V) #lunghezza degli intervalli\n",
    "        self.MidPoints = (self.V[:-1]+self.V[1:])/2 #punti medi\n",
    "\n",
    "        # aggiungi nodi intermedi per elementi di grado > 1\n",
    "        self.globV = self.V\n",
    "        for i in range(1,ndof):\n",
    "            self.globV = np.r_[self.globV,self.V[:-1]+self.ElemSize*i/ndof]\n",
    "        self.globV = np.sort(self.globV)\n",
    "\n",
    "        # precalcola la matrice di massa\n",
    "        if gaussdeg is None:\n",
    "            gaussdeg = ndof+1 # quadratura esatta per polinomi di grado 2*ndof\n",
    "        if getM:\n",
    "            p, dp, ndof = fe.Pol, fe.PolDer, fe.ndof\n",
    "            grigliaref = GRID(0,1,NgridM) #la griglia per l'integrazione sull'elemento di riferimento\n",
    "            self.Mlocal = np.zeros((ndof+1,ndof+1))\n",
    "            for k in range(ndof+1):\n",
    "                for j in range(ndof+1):\n",
    "                    # integrale di phi_k phi_j\n",
    "                    self.Mlocal[k,j] = grigliaref.integrate(lambda x: p[k](x)*p[j](x),deg=gaussdeg)*self.ElemSize[0] \n",
    "\n",
    "            # assemblaggio matrice globale\n",
    "            self.LTG = LTGdd(ndof,NumEl) #già decise condizioni di Dirichlet omogenee\n",
    "            contribution = lambda k, j, l: self.Mlocal[k,j] \n",
    "            self.M = assemble_from_LTG(self.LTG, contribution)\n",
    "            \n",
    "    def integrate(self,f,deg=1):\n",
    "        # integra una funzione sulla griglia con quadratura gaussiana\n",
    "        return sum([quad(f,deg,a=self.V[i],b=self.V[i+1]) for i in range(self.NumEl)])"
   ]
  },
  {
   "cell_type": "markdown",
   "metadata": {},
   "source": [
    "### Elemento finito"
   ]
  },
  {
   "cell_type": "code",
   "execution_count": null,
   "metadata": {},
   "outputs": [],
   "source": [
    "class FE:\n",
    "    def __init__(self, ndof):\n",
    "        self.ndof = ndof\n",
    "        # nodi locali\n",
    "        self.Xref = np.linspace(0,1,ndof+1)\n",
    "        points = 0*self.Xref\n",
    "        self.Pol = [None]*(ndof+1)\n",
    "        # definisce i polinomi di Lagrange sui nodi associati\n",
    "        for i in range(ndof+1):\n",
    "            points[i] = 1 # il polinomio i-esimo deve valere 1 al nodo i-esimo\n",
    "            pol = lagrange(self.Xref, points)\n",
    "            self.Pol[i] = Polynomial(pol.coef[::-1])\n",
    "            points[i] = 0 # spengo il nodo\n",
    "        # calcolo derivate\n",
    "        self.PolDer = [p.deriv() for p in self.Pol]"
   ]
  },
  {
   "cell_type": "markdown",
   "metadata": {},
   "source": [
    "### Calcolo della matrice $A$"
   ]
  },
  {
   "cell_type": "code",
   "execution_count": null,
   "metadata": {},
   "outputs": [],
   "source": [
    "def getA(fe,griglia,a,constantdiffusion=False,NgridA=10,gaussdeg=None):\n",
    "    #calcola la matrice di rigidezza, a seconda se ci sono diffusione/trasporto non costanti spazialmente\n",
    "    p, dp, ndof = fe.Pol, fe.PolDer, fe.ndof\n",
    "    NumEl, xL, dx = griglia.NumEl, griglia.V[:-1], griglia.ElemSize\n",
    "    LTG = LTGdd(ndof,NumEl)\n",
    "    grigliaref = GRID(0,1,NgridA)\n",
    "    if gaussdeg is None:\n",
    "        gaussdeg = max(4,ndof) # sperimentalmente è sufficiente\n",
    "\n",
    "    # se a non dipende da x\n",
    "    if constantdiffusion:\n",
    "        Alocal = np.zeros((ndof+1,ndof+1))\n",
    "        local_a = lambda j, k, x: a(p[j],p[k],dp[j],dp[k])(x)\n",
    "        for k in range(ndof+1):\n",
    "            for j in range(ndof+1):\n",
    "                Alocal[k,j] = grigliaref.integrate(lambda x: local_a(j, k, x),deg=gaussdeg)\n",
    "        contribution = lambda k, j, l: Alocal[k,j] \n",
    "    # se a dipende da x\n",
    "    else:\n",
    "        full_a = lambda j, k, l, x: a(p[j],p[k],dp[j],dp[k],xL[l],dx[l])(x)\n",
    "        contribution = lambda k, j, l: grigliaref.integrate(lambda x: full_a(j, k, l, x), deg=gaussdeg)\n",
    "    \n",
    "    A = assemble_from_LTG(LTG, contribution)\n",
    "    return A"
   ]
  },
  {
   "cell_type": "markdown",
   "metadata": {},
   "source": [
    "### Crank Nicolson"
   ]
  },
  {
   "cell_type": "code",
   "execution_count": null,
   "metadata": {},
   "outputs": [],
   "source": [
    "def advance(u,dt,M,A):\n",
    "    #calcola u+1 con crank-nickolson\n",
    "    K = M + dt*A/2\n",
    "    g = np.dot((M - dt*A/2),u[1:-1])\n",
    "    # metodi per matrici sparse\n",
    "    K, g = csc_matrix(K,dtype=float), csc_matrix(g,dtype=float).T\n",
    "    unew_inner = spsolve(K,g)\n",
    "    unew = np.r_[u[0],unew_inner,u[-1]]\n",
    "    return unew"
   ]
  },
  {
   "cell_type": "markdown",
   "metadata": {},
   "source": [
    "### Condizioni iniziali utili"
   ]
  },
  {
   "cell_type": "code",
   "execution_count": null,
   "metadata": {},
   "outputs": [],
   "source": [
    "# condizioni non a supporto compatto\n",
    "def waterbag(x,mu,sigma):\n",
    "    return (x>mu-eps)*(x<mu+eps)\n",
    "    \n",
    "def gauss(x,A,mu,sigma):\n",
    "    return A*np.exp(-(x-mu)**2/sigma**2)\n",
    "\n",
    "# condizione iniziale che poi uso, perché a supporto compatto\n",
    "def sph(q):\n",
    "    # tipico kernel sph, da usare come distribuzione iniziale C^2 a supporto [-2h,2h]\n",
    "    w = q*0\n",
    "    c1 = (0<=q) & (q<=1/2)\n",
    "    c2 = (1/2<=q) & (q<=1)\n",
    "    w[c1] = 1-6*q[c1]**2+6*q[c1]**3\n",
    "    w[c2] = 2*(1-q[c2])**3\n",
    "    return w\n",
    "\n",
    "def nicekernel(x,mu,h):\n",
    "    return sph(np.abs(x-mu)/(2*h))"
   ]
  },
  {
   "cell_type": "markdown",
   "metadata": {},
   "source": [
    "# Soluzione esatta"
   ]
  },
  {
   "cell_type": "markdown",
   "metadata": {},
   "source": [
    "### Funzione di Green per l'equazione dei dischi\n",
    "In variabili \"standard\", la soluzione dell'equazione per condizione iniziale\n",
    "$$\\Sigma(r,t=0) = \\frac{M_0}{2\\pi R_0}\\delta(r-R_0)$$\n",
    "per $\\alpha<2$ è data da\n",
    "$$\\Sigma(r,t) = \n",
    "\\frac{M_0(1-\\alpha/2)}{\\pi R_0^2 \\xi^{(\\alpha+1/4)} \\tau}\n",
    "\\exp{-\\frac{1+\\xi^{2-\\alpha}}{\\tau}}\n",
    "I_{1/|4-2\\alpha|}\\left(\\frac{2\\xi^{1-\\alpha/2}}{\\tau}\\right)$$\n",
    "\n",
    "dove \n",
    "- $M_0$ è la massa iniziale del disco\n",
    "- $\\xi=r/R_0$\n",
    "- $\\tau = t[12 A (1-\\alpha/2)^2/R_0^2]$ tempo caratteristico della diffusione\n",
    "ma noi ora usiamo $A=1/3$ quindi \n",
    "$$\\tau = \\left(\\frac{2-\\alpha}{R_0}\\right)^2 t$$\n",
    "e quindi il prefattore si semplifica a \n",
    "$$\\frac{M_0}{2\\pi(2-\\alpha)\\xi^{\\alpha+1/4}t}$$\n",
    "- $I_m(z)$ è la funzione di Bessel modificata di ordine $m$\n",
    "\n",
    "La soluzione va poi convertita per la nostra variabile $u=2\\pi r \\Sigma$ (praticamente la massa $M$)."
   ]
  },
  {
   "cell_type": "markdown",
   "metadata": {},
   "source": [
    "### Problemi di overflow/underflow: espressione asintotica"
   ]
  },
  {
   "cell_type": "markdown",
   "metadata": {},
   "source": [
    "(!) Avevo riscontrato problemi che adesso sono abbastanza scomparsi cambiando alcune costanti del sistema, e in realtà ora le approssimazioni si vedono sulla convergenza. Tanto alla fine uso autoconvergenza.\n",
    "\n",
    "Nella formula sopra, per argomenti grandi, l'esponenziale assume valori estremamente piccoli, la Bessel estremamente grandi.\n",
    "\n",
    "Le funzioni di Bessel modificate ammettono la forma asintotica\n",
    "\n",
    "$$I_{m}(z) \\approx \\frac{1}{\\sqrt{2\\pi z}\\sqrt[4]{1+b^2}} \\exp\\left(-m\\text{ arcsinh } b + z\\sqrt{1+b^2}\\right)$$\n",
    "\n",
    "dove $b=m/z$, che per $m=1/2$ oppure prendendo la formula sopra per $b\\ll 1$ diventa\n",
    "\n",
    "$$I_{m}(z) \\approx \\frac{\\exp z}{\\sqrt{2\\pi z}}$$\n",
    "\n",
    "*indipendentemente da $m$*. Questa può sembrare un'approssimazione forte ma per $z\\gtrsim 10$ il risultato è praticamente indistinguibile.\n",
    "\n",
    "In questo modo nella funzione di Green il prodotto dell'esponenziale e della Bessel si semplifica (trascurando il denominatore dell'ultima formula) a \n",
    "\n",
    "$$\\exp{\\frac{(\\xi^{1-\\alpha/2}-1)^2}{\\tau}} = \\exp{R_0^{\\alpha-2}\\frac{(r^{1-\\alpha/2}-R_0^{1-\\alpha/2})^2}{\\tau}}$$\n",
    "\n",
    "che è la tipica forma di \"gaussiana\" di centro $R_0$ e larghezza $\\sqrt{\\tau}$ (per $\\alpha\\neq 0$ ovviamente non è proprio una gaussiana).\n",
    "\n",
    "Praticamente con il senno di poi nella formula originale l'esponenziale conteneva la somma dei quadrati, mentre la funzione di Bessel il doppio prodotto.\n",
    "\n",
    "Usando questa approssimazione quando l'argomento della Bessel supera una certa soglia, i problemi di overflow/underflow spariscono."
   ]
  },
  {
   "cell_type": "markdown",
   "metadata": {},
   "source": [
    "### Forme asintotiche Bessel"
   ]
  },
  {
   "cell_type": "code",
   "execution_count": null,
   "metadata": {},
   "outputs": [],
   "source": [
    "def iv_asymptotic(m,z):\n",
    "    # formula asintotica per z grande\n",
    "    b = m/z\n",
    "    amplitude = 1/(np.sqrt(2*np.pi*z)*(1+b**2)**(1/4))\n",
    "    exponential = np.exp(-m*np.arcsinh(b)+z*np.sqrt(1+b**2))\n",
    "    return amplitude*exponential\n",
    "\n",
    "def iv_stupid(z):\n",
    "    # formula estremamente approssimata che è quella che vado ad usare poi\n",
    "    # praticamente iv_asymptotic per a (ordine della Bessel) piccolo\n",
    "    # la formula è esattamente iv_asymptotic per a=1/2\n",
    "    amplitude = 1/(np.sqrt(2*np.pi*z))\n",
    "    exponential = np.exp(z)\n",
    "    return amplitude*exponential"
   ]
  },
  {
   "cell_type": "markdown",
   "metadata": {},
   "source": [
    "### Soluzione fondamentale"
   ]
  },
  {
   "cell_type": "code",
   "execution_count": null,
   "metadata": {},
   "outputs": [],
   "source": [
    "def disckernel(r,R0,t,alpha=0,approx=True):\n",
    "    #implementazione numericamente stabile che usa\n",
    "    #forma asintotica semplificata per le funzioni di bessel modificate\n",
    "    thresh = 10 #valore minimo di z per usare l'espressione di I(z>>1)\n",
    "    xi = r/R0\n",
    "    # i calcoli sono già fatti nel raggio adimensionale x\n",
    "    tauu = t*(2-alpha)**2/R0**(2-alpha) # tempo caratteristico della diffusione\n",
    "    amplitude = (1-alpha/2)/(np.pi*R0**2*xi**(alpha+1/4)*tauu)\n",
    "    z = 2*xi**(1-alpha/2)/tauu # argomento della bessel\n",
    "    besselorder = 1/np.abs(4-2*alpha)\n",
    "    big = z*0 # inizializzo il termine problematico, prodotto exp*bessel\n",
    "    if xi.size>1: # argomento vettoriale\n",
    "        if approx:\n",
    "            approx = z>=thresh\n",
    "            noapprox = z<thresh\n",
    "        else:\n",
    "            approx = [False]*len(z)\n",
    "            noapprox = [True]*len(z)\n",
    "        big[approx] = np.exp(-(xi[approx]**(1-alpha/2)-1)**2/tauu[approx])/(np.sqrt(2*np.pi*z[approx]))\n",
    "        # per z sotto la soglia utilizzo la formula esatta\n",
    "        exponential = np.exp(-(1+xi[noapprox]**(2-alpha))/tauu[noapprox])\n",
    "        bessel = iv(besselorder,z[noapprox])\n",
    "        big[noapprox] = exponential*bessel\n",
    "    else: #argomento scalare\n",
    "        if approx:\n",
    "            if z>=thresh:\n",
    "                big = np.exp(-(xi**(1-alpha/2)-1)**2/tauu)/(np.sqrt(2*np.pi*z))\n",
    "        else:\n",
    "            exponential = np.exp(-(1+xi**(2-alpha))/tauu)\n",
    "            bessel = iv(besselorder,z)\n",
    "            big = exponential*bessel\n",
    "    Sigma = amplitude*big\n",
    "    # converto da densità a massa\n",
    "    M = 2*np.pi*r*Sigma\n",
    "    return M"
   ]
  },
  {
   "cell_type": "markdown",
   "metadata": {},
   "source": [
    "### Soluzione esatta data una condizione iniziale"
   ]
  },
  {
   "cell_type": "code",
   "execution_count": null,
   "metadata": {},
   "outputs": [],
   "source": [
    "def discexact(r,t,u0,grigliaconv,alpha=0,approx=False,gaussdeg=3,progress=False):\n",
    "    # soluzione esatta disco, integrazione gaussiana\n",
    "    if t==0:    \n",
    "        return u0(r) #dà comunque problemi, meglio non usare\n",
    "    else:\n",
    "        y = r*0\n",
    "        if progress:\n",
    "            for i in tqdm(range(len(r)),leave=False):\n",
    "                rvar = r[i]\n",
    "                y[i] = grigliaconv.integrate(lambda R0: disckernel(rvar,R0,t,alpha=alpha,approx=approx)*u0(R0),deg=gaussdeg)\n",
    "        else:\n",
    "            for i in range(len(r)):\n",
    "                rvar = r[i]\n",
    "                y[i] = grigliaconv.integrate(lambda R0: disckernel(rvar,R0,t,alpha=alpha,approx=approx)*u0(R0),deg=gaussdeg)\n",
    "        return y\n"
   ]
  },
  {
   "cell_type": "markdown",
   "metadata": {},
   "source": [
    "# Equazione dei dischi"
   ]
  },
  {
   "cell_type": "markdown",
   "metadata": {},
   "source": [
    "### Forma quadratica"
   ]
  },
  {
   "cell_type": "code",
   "execution_count": 5,
   "metadata": {},
   "outputs": [],
   "source": [
    "def adisc(u,v,du,dv,xL=0,dx=1):\n",
    "    #v in realtà non viene usata ma almeno c'è chiarezza\n",
    "    mu = lambda r: r**alpha\n",
    "    # b = lambda x: C\n",
    "    b = lambda r: -(alpha-1/2)*r**(alpha-1)\n",
    "    xrest = lambda r: xL+r*dx # dà x vero in funzione di x di riferimento\n",
    "    return lambda r: (mu(xrest(r))*du(r)/dx-b(xrest(r))*u(r))*dv(r)"
   ]
  },
  {
   "cell_type": "markdown",
   "metadata": {},
   "source": [
    "### Scan su h"
   ]
  },
  {
   "cell_type": "code",
   "execution_count": null,
   "metadata": {},
   "outputs": [
    {
     "name": "stderr",
     "output_type": "stream",
     "text": [
      "  0%|          | 0/256 [00:00<?, ?it/s]              "
     ]
    }
   ],
   "source": [
    "alpha = 0 # nu = Ar^alpha\n",
    "a, b = 10, 100\n",
    "\n",
    "T = 10\n",
    "dt = T/2**8\n",
    "Nsteps = int(T/dt)\n",
    "\n",
    "figfolder = f\"graphics/scan/dt10spaziale{alpha}\"\n",
    "Path(figfolder).mkdir(parents=True,exist_ok=True)\n",
    "picklefile = f\"{figfolder}/curve.pkl\"\n",
    "\n",
    "Ns = 5*np.logspace(1,3,20).astype(int)\n",
    "hs = (b-a)/Ns\n",
    "\n",
    "eps = (b-a)/50*2\n",
    "mu = (b+a)/2\n",
    "f0 = lambda x: nicekernel(x,mu,eps)\n",
    "\n",
    "ndofs = np.arange(1,6)\n",
    "\n",
    "counter = 0\n",
    "\n",
    "out = []\n",
    "\n",
    "with open(\"Yref1\",\"rb\") as f:\n",
    "    exact = pickle.load(f)\n",
    "\n",
    "if 0:\n",
    "    ### calcolo Y esatta approssimata\n",
    "    ndof_good = 3\n",
    "    fe = FE(ndof_good)\n",
    "    griglia_good = GRID(a,b,10000,ndof=ndof_good,getM=True,fe=fe)\n",
    "    A = getA(fe,griglia_good,adisc,constantdiffusion=False)\n",
    "    t = 0\n",
    "    X_good = griglia_good.globV\n",
    "    u = f0(X_good)\n",
    "    ts = []\n",
    "    for i in tqdm(range(Nsteps)):\n",
    "        t+=dt\n",
    "        u = advance(u,dt,griglia_good.M,A)\n",
    "    Y_good = u\n",
    "    good = {\n",
    "    \"X_good\": X_good,\n",
    "    \"T\": T,\n",
    "    \"Y_good\": Y_good,\n",
    "    \"a\": a,\n",
    "    \"b\": b,\n",
    "    \"alpha\": 0\n",
    "}\n",
    "    with open(\"Ygood2\",\"wb\") as f:\n",
    "        pickle.dump(good,f)\n",
    "else:\n",
    "    with open(\"Ygood1\",\"rb\") as f:\n",
    "        good = pickle.load(f)\n",
    "\n",
    "for ndof in ndofs:\n",
    "    fe = FE(ndof)\n",
    "    us = []\n",
    "    dus = []\n",
    "    Ys = []\n",
    "    dYs = []\n",
    "\n",
    "    if 0:\n",
    "        Yref_spline = make_splrep(exact[\"X\"],exact[\"Yref\"],k=ndof,s=0)\n",
    "    if 1: \n",
    "        Yref_spline = make_splrep(good[\"X_good\"],good[\"Y_good\"],k=ndof,s=0)\n",
    "\n",
    "    dYref_spline = Yref_spline.derivative(1)\n",
    "    for j, N in enumerate(Ns):\n",
    "        griglia = GRID(a,b,N,ndof=ndof,getM=True,fe=fe)\n",
    "        A = getA(fe,griglia,adisc,constantdiffusion=False)\n",
    "\n",
    "        t = 0\n",
    "\n",
    "        X = griglia.globV\n",
    "        u = f0(X)\n",
    "        # Y = discexact(X,T,f0,grigliaconv,alpha=alpha,approx=False)\n",
    "        Y = Yref_spline(X)\n",
    "        dY = dYref_spline(X)\n",
    "        Ys.append(Y)\n",
    "        dYs.append(dY)\n",
    "\n",
    "        ts = []\n",
    "        fig, ((ax,axd), (axerr, axderr)) = plt.subplots(nrows=2,ncols=2,figsize=(10,10))\n",
    "        ax.plot(X,u,\".-C1\",label=\"initial\")\n",
    "        for i in tqdm(range(Nsteps)):\n",
    "            t+=dt\n",
    "            ts = np.append(ts,t)\n",
    "            u = advance(u,dt,griglia.M,A)\n",
    "        \n",
    "        us.append(u)\n",
    "        u_spline = make_splrep(X,u,k=ndof,s=0)\n",
    "        du_spline = u_spline.derivative(1)\n",
    "        du = du_spline(X)\n",
    "        dus.append(du)\n",
    "        ax.plot(X,u,'.-C0',label=\"final\")\n",
    "        ax.plot(X,Y,'--r',label=\"exact\")\n",
    "        axerr.plot(X,u-Y,\".-C0\")\n",
    "\n",
    "        axd.plot(X,du,'.-C0',label=\"final derivative\")\n",
    "        axd.plot(X,dY,'--r',label=\"exact derivative\")\n",
    "        axderr.plot(X,du-dY,\".-C0\")\n",
    "\n",
    "        fig.suptitle(f\"ndof={ndof}, N={N}\")\n",
    "        ax.legend()\n",
    "        ax.grid()\n",
    "        fix_lims(ax,(j==0))\n",
    "        filename = f\"{figfolder}/{counter:03d}.png\"\n",
    "        fig.savefig(filename)\n",
    "        plt.close()\n",
    "        counter += 1\n",
    "\n",
    "        res = {\n",
    "            \"alpha\": alpha,\n",
    "            \"T\": T,\n",
    "            \"dt\": dt,\n",
    "            \"Ns\": Ns,\n",
    "            \"hs\": hs,\n",
    "            \"ndof\": ndof,\n",
    "            \"us\": us,\n",
    "            \"dus\": dus,\n",
    "            \"Ys\": Ys,\n",
    "            \"dYs\": dYs\n",
    "        }\n",
    "\n",
    "        if j==0:\n",
    "            out.append(res)\n",
    "        else:\n",
    "            out[-1] = res\n",
    "        with open(picklefile,\"wb\") as f:\n",
    "            pickle.dump(out,f)"
   ]
  },
  {
   "cell_type": "markdown",
   "metadata": {},
   "source": [
    "### qual è stato il mio workflow?\n",
    "test di convergenza su \n",
    "- M\n",
    "- A\n",
    "- soluzione esatta (Nconv, gaussdeg)"
   ]
  },
  {
   "cell_type": "markdown",
   "metadata": {},
   "source": [
    "### scan dt\n"
   ]
  },
  {
   "cell_type": "code",
   "execution_count": 25,
   "metadata": {},
   "outputs": [
    {
     "name": "stdout",
     "output_type": "stream",
     "text": [
      "[5.0000000e+00 2.5000000e+00 1.2500000e+00 6.2500000e-01 3.1250000e-01\n",
      " 1.5625000e-01 7.8125000e-02 3.9062500e-02 1.9531250e-02 9.7656250e-03\n",
      " 4.8828125e-03]\n"
     ]
    },
    {
     "name": "stderr",
     "output_type": "stream",
     "text": [
      "100%|██████████| 2/2 [00:00<00:00, 715.75it/s]   \n",
      "100%|██████████| 4/4 [00:00<00:00, 668.34it/s]\n",
      "100%|██████████| 8/8 [00:00<00:00, 503.44it/s]\n",
      "100%|██████████| 16/16 [00:00<00:00, 702.95it/s]\n",
      "100%|██████████| 32/32 [00:00<00:00, 734.76it/s]\n",
      "100%|██████████| 64/64 [00:00<00:00, 830.82it/s]\n",
      "100%|██████████| 128/128 [00:00<00:00, 800.36it/s]\n",
      "100%|██████████| 256/256 [00:00<00:00, 880.94it/s]\n",
      "100%|██████████| 512/512 [00:00<00:00, 856.69it/s]\n",
      "100%|██████████| 1024/1024 [00:01<00:00, 820.56it/s]\n",
      "100%|██████████| 2048/2048 [00:02<00:00, 868.36it/s] \n",
      "100%|██████████| 2/2 [00:00<00:00, 460.51it/s]   \n",
      "100%|██████████| 4/4 [00:00<00:00, 518.41it/s]\n",
      "100%|██████████| 8/8 [00:00<00:00, 479.64it/s]\n",
      "100%|██████████| 16/16 [00:00<00:00, 473.14it/s]\n",
      "100%|██████████| 32/32 [00:00<00:00, 569.51it/s]\n",
      "100%|██████████| 64/64 [00:00<00:00, 565.00it/s]\n",
      "100%|██████████| 128/128 [00:00<00:00, 547.42it/s]\n",
      "100%|██████████| 256/256 [00:00<00:00, 552.36it/s]\n",
      "100%|██████████| 512/512 [00:00<00:00, 556.95it/s]\n",
      "100%|██████████| 1024/1024 [00:01<00:00, 552.13it/s]\n",
      "100%|██████████| 2048/2048 [00:03<00:00, 523.38it/s]\n",
      "100%|██████████| 2/2 [00:00<00:00, 148.37it/s]   \n",
      "100%|██████████| 4/4 [00:00<00:00, 209.58it/s]\n",
      "100%|██████████| 8/8 [00:00<00:00, 78.92it/s]\n",
      "100%|██████████| 16/16 [00:00<00:00, 202.30it/s]\n",
      "100%|██████████| 32/32 [00:00<00:00, 174.02it/s]\n",
      "100%|██████████| 64/64 [00:00<00:00, 161.39it/s]\n",
      "100%|██████████| 128/128 [00:00<00:00, 167.53it/s]\n",
      "100%|██████████| 256/256 [00:01<00:00, 182.75it/s]\n",
      "100%|██████████| 512/512 [00:02<00:00, 194.97it/s]\n",
      "100%|██████████| 1024/1024 [00:05<00:00, 191.31it/s]\n",
      "100%|██████████| 2048/2048 [00:10<00:00, 203.96it/s]\n",
      "100%|██████████| 2/2 [00:00<00:00, 80.25it/s]    \n",
      "100%|██████████| 4/4 [00:00<00:00, 55.90it/s]\n",
      "100%|██████████| 8/8 [00:00<00:00, 44.57it/s]\n",
      "100%|██████████| 16/16 [00:00<00:00, 69.12it/s]\n",
      "100%|██████████| 32/32 [00:00<00:00, 61.85it/s]\n",
      "100%|██████████| 64/64 [00:00<00:00, 92.73it/s] \n",
      "100%|██████████| 128/128 [00:02<00:00, 52.71it/s]\n",
      "100%|██████████| 256/256 [00:03<00:00, 80.63it/s]\n",
      "100%|██████████| 512/512 [00:07<00:00, 71.33it/s]\n",
      "100%|██████████| 1024/1024 [00:12<00:00, 84.41it/s]\n",
      "100%|██████████| 2048/2048 [00:21<00:00, 94.98it/s] \n",
      "100%|██████████| 2/2 [00:00<00:00, 87.63it/s]    \n",
      "100%|██████████| 4/4 [00:00<00:00, 88.17it/s]\n",
      "100%|██████████| 8/8 [00:00<00:00, 83.96it/s]\n",
      "100%|██████████| 16/16 [00:00<00:00, 76.28it/s]\n",
      "100%|██████████| 32/32 [00:00<00:00, 82.58it/s]\n",
      "100%|██████████| 64/64 [00:00<00:00, 83.24it/s]\n",
      "100%|██████████| 128/128 [00:01<00:00, 91.71it/s]\n",
      "100%|██████████| 256/256 [00:03<00:00, 84.06it/s]\n",
      "100%|██████████| 512/512 [00:05<00:00, 91.21it/s]\n",
      "100%|██████████| 1024/1024 [00:13<00:00, 78.64it/s]\n",
      "100%|██████████| 2048/2048 [00:25<00:00, 81.52it/s]\n"
     ]
    }
   ],
   "source": [
    "alpha = 0 # nu = Ar^alpha\n",
    "a, b = 10, 100\n",
    "\n",
    "T = 10\n",
    "dts = T/2**np.arange(1,12)\n",
    "print(dts)\n",
    "\n",
    "\n",
    "figfolder = f\"graphics/scan/dx1temporale{alpha}\"\n",
    "Path(figfolder).mkdir(parents=True,exist_ok=True)\n",
    "picklefile = f\"{figfolder}/curve.pkl\"\n",
    "\n",
    "N = 120\n",
    "h = (b-a)/N\n",
    "\n",
    "eps = (b-a)/50*2\n",
    "mu = (b+a)/2\n",
    "f0 = lambda x: nicekernel(x,mu,eps)\n",
    "\n",
    "ndofs = np.arange(1,6)\n",
    "\n",
    "counter = 0\n",
    "\n",
    "out = []\n",
    "\n",
    "with open(\"Yref1\",\"rb\") as f:\n",
    "    exact = pickle.load(f)\n",
    "\n",
    "with open(\"Ygood1\",\"rb\") as f:\n",
    "    good = pickle.load(f)\n",
    "\n",
    "for ndof in ndofs:\n",
    "    fe = FE(ndof)\n",
    "    us = []\n",
    "    dus = []\n",
    "    Ys = []\n",
    "    dYs = []\n",
    "\n",
    "    if 0:\n",
    "        Yref_spline = make_splrep(exact[\"X\"],exact[\"Yref\"],k=ndof,s=0)\n",
    "    if 1: \n",
    "        Yref_spline = make_splrep(good[\"X_good\"],good[\"Y_good\"],k=ndof,s=0)\n",
    "\n",
    "    dYref_spline = Yref_spline.derivative(1)\n",
    "\n",
    "    griglia = GRID(a,b,N,ndof=ndof,getM=True,fe=fe)\n",
    "    A = getA(fe,griglia,adisc,constantdiffusion=False)\n",
    "\n",
    "    t = 0\n",
    "\n",
    "    X = griglia.globV\n",
    "    # Y = discexact(X,T,f0,grigliaconv,alpha=alpha,approx=False)\n",
    "    Y = Yref_spline(X)\n",
    "    dY = dYref_spline(X)\n",
    "\n",
    "    ts = []\n",
    "\n",
    "    for j, dt in enumerate(dts):\n",
    "        Ys.append(Y)\n",
    "        dYs.append(dY)\n",
    "        u = f0(X)\n",
    "        fig, ((ax,axd), (axerr, axderr)) = plt.subplots(nrows=2,ncols=2,figsize=(10,10))\n",
    "        ax.plot(X,u,\".-C1\",label=\"initial\")\n",
    "        Nsteps = int(T/dt)\n",
    "        for i in tqdm(range(Nsteps)):\n",
    "            t+=dt\n",
    "            ts = np.append(ts,t)\n",
    "            u = advance(u,dt,griglia.M,A)\n",
    "        us.append(u)\n",
    "        u_spline = make_splrep(X,u,k=ndof,s=0)\n",
    "        du_spline = u_spline.derivative(1)\n",
    "        du = du_spline(X)\n",
    "        dus.append(du)\n",
    "        ax.plot(X,u,'.-C0',label=\"final\")\n",
    "        ax.plot(X,Y,'--r',label=\"exact\")\n",
    "        axerr.plot(X,u-Y,\".-C0\")\n",
    "\n",
    "        axd.plot(X,du,'.-C0',label=\"final derivative\")\n",
    "        axd.plot(X,dY,'--r',label=\"exact derivative\")\n",
    "        axderr.plot(X,du-dY,\".-C0\")\n",
    "\n",
    "        fig.suptitle(f\"ndof={ndof}, {Nsteps} timesteps\")\n",
    "        ax.legend()\n",
    "        ax.grid()\n",
    "        fix_lims(ax,(j==0))\n",
    "        filename = f\"{figfolder}/{counter:03d}.png\"\n",
    "        fig.savefig(filename)\n",
    "        plt.close()\n",
    "        counter += 1\n",
    "\n",
    "        res = {\n",
    "            \"alpha\": alpha,\n",
    "            \"T\": T,\n",
    "            \"ts\": ts,\n",
    "            \"ndof\": ndof,\n",
    "            \"us\": us,\n",
    "            \"dus\": dus,\n",
    "            \"Ys\": Ys,\n",
    "            \"dYs\": dYs\n",
    "        }\n",
    "\n",
    "        if j==0:\n",
    "            out.append(res)\n",
    "        else:\n",
    "            out[-1] = res\n",
    "        with open(picklefile,\"wb\") as f:\n",
    "            pickle.dump(out,f)"
   ]
  },
  {
   "cell_type": "markdown",
   "metadata": {},
   "source": [
    "### filmini soluzione esatta"
   ]
  },
  {
   "cell_type": "code",
   "execution_count": 67,
   "metadata": {},
   "outputs": [
    {
     "name": "stdout",
     "output_type": "stream",
     "text": [
      "2.499975\n"
     ]
    },
    {
     "name": "stderr",
     "output_type": "stream",
     "text": [
      "  2%|▏         | 6/256 [00:07<04:54,  1.18s/it] \n"
     ]
    },
    {
     "ename": "KeyboardInterrupt",
     "evalue": "",
     "output_type": "error",
     "traceback": [
      "\u001b[0;31m---------------------------------------------------------------------------\u001b[0m",
      "\u001b[0;31mKeyboardInterrupt\u001b[0m                         Traceback (most recent call last)",
      "Cell \u001b[0;32mIn[67], line 105\u001b[0m\n\u001b[1;32m    103\u001b[0m \u001b[38;5;66;03m# fix_lims(ax,(j==0))\u001b[39;00m\n\u001b[1;32m    104\u001b[0m filename \u001b[38;5;241m=\u001b[39m \u001b[38;5;124mf\u001b[39m\u001b[38;5;124m\"\u001b[39m\u001b[38;5;132;01m{\u001b[39;00mfigfolder\u001b[38;5;132;01m}\u001b[39;00m\u001b[38;5;124m/\u001b[39m\u001b[38;5;132;01m{\u001b[39;00mcounter\u001b[38;5;132;01m:\u001b[39;00m\u001b[38;5;124m03d\u001b[39m\u001b[38;5;132;01m}\u001b[39;00m\u001b[38;5;124m.png\u001b[39m\u001b[38;5;124m\"\u001b[39m\n\u001b[0;32m--> 105\u001b[0m \u001b[43mplt\u001b[49m\u001b[38;5;241;43m.\u001b[39;49m\u001b[43mtight_layout\u001b[49m\u001b[43m(\u001b[49m\u001b[43m)\u001b[49m\n\u001b[1;32m    106\u001b[0m fig\u001b[38;5;241m.\u001b[39msavefig(filename)\n\u001b[1;32m    107\u001b[0m plt\u001b[38;5;241m.\u001b[39mclose()\n",
      "File \u001b[0;32m~/uni/semplice/.venv/lib/python3.13/site-packages/matplotlib/pyplot.py:2835\u001b[0m, in \u001b[0;36mtight_layout\u001b[0;34m(pad, h_pad, w_pad, rect)\u001b[0m\n\u001b[1;32m   2827\u001b[0m \u001b[38;5;129m@_copy_docstring_and_deprecators\u001b[39m(Figure\u001b[38;5;241m.\u001b[39mtight_layout)\n\u001b[1;32m   2828\u001b[0m \u001b[38;5;28;01mdef\u001b[39;00m\u001b[38;5;250m \u001b[39m\u001b[38;5;21mtight_layout\u001b[39m(\n\u001b[1;32m   2829\u001b[0m     \u001b[38;5;241m*\u001b[39m,\n\u001b[0;32m   (...)\u001b[0m\n\u001b[1;32m   2833\u001b[0m     rect: \u001b[38;5;28mtuple\u001b[39m[\u001b[38;5;28mfloat\u001b[39m, \u001b[38;5;28mfloat\u001b[39m, \u001b[38;5;28mfloat\u001b[39m, \u001b[38;5;28mfloat\u001b[39m] \u001b[38;5;241m|\u001b[39m \u001b[38;5;28;01mNone\u001b[39;00m \u001b[38;5;241m=\u001b[39m \u001b[38;5;28;01mNone\u001b[39;00m,\n\u001b[1;32m   2834\u001b[0m ) \u001b[38;5;241m-\u001b[39m\u001b[38;5;241m>\u001b[39m \u001b[38;5;28;01mNone\u001b[39;00m:\n\u001b[0;32m-> 2835\u001b[0m     \u001b[43mgcf\u001b[49m\u001b[43m(\u001b[49m\u001b[43m)\u001b[49m\u001b[38;5;241;43m.\u001b[39;49m\u001b[43mtight_layout\u001b[49m\u001b[43m(\u001b[49m\u001b[43mpad\u001b[49m\u001b[38;5;241;43m=\u001b[39;49m\u001b[43mpad\u001b[49m\u001b[43m,\u001b[49m\u001b[43m \u001b[49m\u001b[43mh_pad\u001b[49m\u001b[38;5;241;43m=\u001b[39;49m\u001b[43mh_pad\u001b[49m\u001b[43m,\u001b[49m\u001b[43m \u001b[49m\u001b[43mw_pad\u001b[49m\u001b[38;5;241;43m=\u001b[39;49m\u001b[43mw_pad\u001b[49m\u001b[43m,\u001b[49m\u001b[43m \u001b[49m\u001b[43mrect\u001b[49m\u001b[38;5;241;43m=\u001b[39;49m\u001b[43mrect\u001b[49m\u001b[43m)\u001b[49m\n",
      "File \u001b[0;32m~/uni/semplice/.venv/lib/python3.13/site-packages/matplotlib/figure.py:3640\u001b[0m, in \u001b[0;36mFigure.tight_layout\u001b[0;34m(self, pad, h_pad, w_pad, rect)\u001b[0m\n\u001b[1;32m   3638\u001b[0m previous_engine \u001b[38;5;241m=\u001b[39m \u001b[38;5;28mself\u001b[39m\u001b[38;5;241m.\u001b[39mget_layout_engine()\n\u001b[1;32m   3639\u001b[0m \u001b[38;5;28mself\u001b[39m\u001b[38;5;241m.\u001b[39mset_layout_engine(engine)\n\u001b[0;32m-> 3640\u001b[0m \u001b[43mengine\u001b[49m\u001b[38;5;241;43m.\u001b[39;49m\u001b[43mexecute\u001b[49m\u001b[43m(\u001b[49m\u001b[38;5;28;43mself\u001b[39;49m\u001b[43m)\u001b[49m\n\u001b[1;32m   3641\u001b[0m \u001b[38;5;28;01mif\u001b[39;00m previous_engine \u001b[38;5;129;01mis\u001b[39;00m \u001b[38;5;129;01mnot\u001b[39;00m \u001b[38;5;28;01mNone\u001b[39;00m \u001b[38;5;129;01mand\u001b[39;00m \u001b[38;5;129;01mnot\u001b[39;00m \u001b[38;5;28misinstance\u001b[39m(\n\u001b[1;32m   3642\u001b[0m     previous_engine, (TightLayoutEngine, PlaceHolderLayoutEngine)\n\u001b[1;32m   3643\u001b[0m ):\n\u001b[1;32m   3644\u001b[0m     _api\u001b[38;5;241m.\u001b[39mwarn_external(\u001b[38;5;124m'\u001b[39m\u001b[38;5;124mThe figure layout has changed to tight\u001b[39m\u001b[38;5;124m'\u001b[39m)\n",
      "File \u001b[0;32m~/uni/semplice/.venv/lib/python3.13/site-packages/matplotlib/layout_engine.py:188\u001b[0m, in \u001b[0;36mTightLayoutEngine.execute\u001b[0;34m(self, fig)\u001b[0m\n\u001b[1;32m    183\u001b[0m     kwargs \u001b[38;5;241m=\u001b[39m get_tight_layout_figure(\n\u001b[1;32m    184\u001b[0m         fig, fig\u001b[38;5;241m.\u001b[39maxes, get_subplotspec_list(fig\u001b[38;5;241m.\u001b[39maxes), renderer,\n\u001b[1;32m    185\u001b[0m         pad\u001b[38;5;241m=\u001b[39minfo[\u001b[38;5;124m'\u001b[39m\u001b[38;5;124mpad\u001b[39m\u001b[38;5;124m'\u001b[39m], h_pad\u001b[38;5;241m=\u001b[39minfo[\u001b[38;5;124m'\u001b[39m\u001b[38;5;124mh_pad\u001b[39m\u001b[38;5;124m'\u001b[39m], w_pad\u001b[38;5;241m=\u001b[39minfo[\u001b[38;5;124m'\u001b[39m\u001b[38;5;124mw_pad\u001b[39m\u001b[38;5;124m'\u001b[39m],\n\u001b[1;32m    186\u001b[0m         rect\u001b[38;5;241m=\u001b[39minfo[\u001b[38;5;124m'\u001b[39m\u001b[38;5;124mrect\u001b[39m\u001b[38;5;124m'\u001b[39m])\n\u001b[1;32m    187\u001b[0m \u001b[38;5;28;01mif\u001b[39;00m kwargs:\n\u001b[0;32m--> 188\u001b[0m     \u001b[43mfig\u001b[49m\u001b[38;5;241;43m.\u001b[39;49m\u001b[43msubplots_adjust\u001b[49m\u001b[43m(\u001b[49m\u001b[38;5;241;43m*\u001b[39;49m\u001b[38;5;241;43m*\u001b[39;49m\u001b[43mkwargs\u001b[49m\u001b[43m)\u001b[49m\n",
      "File \u001b[0;32m~/uni/semplice/.venv/lib/python3.13/site-packages/matplotlib/figure.py:1354\u001b[0m, in \u001b[0;36mFigureBase.subplots_adjust\u001b[0;34m(self, left, bottom, right, top, wspace, hspace)\u001b[0m\n\u001b[1;32m   1352\u001b[0m \u001b[38;5;28;01mfor\u001b[39;00m ax \u001b[38;5;129;01min\u001b[39;00m \u001b[38;5;28mself\u001b[39m\u001b[38;5;241m.\u001b[39maxes:\n\u001b[1;32m   1353\u001b[0m     \u001b[38;5;28;01mif\u001b[39;00m ax\u001b[38;5;241m.\u001b[39mget_subplotspec() \u001b[38;5;129;01mis\u001b[39;00m \u001b[38;5;129;01mnot\u001b[39;00m \u001b[38;5;28;01mNone\u001b[39;00m:\n\u001b[0;32m-> 1354\u001b[0m         ax\u001b[38;5;241m.\u001b[39m_set_position(\u001b[43max\u001b[49m\u001b[38;5;241;43m.\u001b[39;49m\u001b[43mget_subplotspec\u001b[49m\u001b[43m(\u001b[49m\u001b[43m)\u001b[49m\u001b[38;5;241;43m.\u001b[39;49m\u001b[43mget_position\u001b[49m\u001b[43m(\u001b[49m\u001b[38;5;28;43mself\u001b[39;49m\u001b[43m)\u001b[49m)\n\u001b[1;32m   1355\u001b[0m \u001b[38;5;28mself\u001b[39m\u001b[38;5;241m.\u001b[39mstale \u001b[38;5;241m=\u001b[39m \u001b[38;5;28;01mTrue\u001b[39;00m\n",
      "File \u001b[0;32m~/uni/semplice/.venv/lib/python3.13/site-packages/matplotlib/gridspec.py:656\u001b[0m, in \u001b[0;36mSubplotSpec.get_position\u001b[0;34m(self, figure)\u001b[0m\n\u001b[1;32m    653\u001b[0m nrows, ncols \u001b[38;5;241m=\u001b[39m gridspec\u001b[38;5;241m.\u001b[39mget_geometry()\n\u001b[1;32m    654\u001b[0m rows, cols \u001b[38;5;241m=\u001b[39m np\u001b[38;5;241m.\u001b[39munravel_index([\u001b[38;5;28mself\u001b[39m\u001b[38;5;241m.\u001b[39mnum1, \u001b[38;5;28mself\u001b[39m\u001b[38;5;241m.\u001b[39mnum2], (nrows, ncols))\n\u001b[1;32m    655\u001b[0m fig_bottoms, fig_tops, fig_lefts, fig_rights \u001b[38;5;241m=\u001b[39m \\\n\u001b[0;32m--> 656\u001b[0m     \u001b[43mgridspec\u001b[49m\u001b[38;5;241;43m.\u001b[39;49m\u001b[43mget_grid_positions\u001b[49m\u001b[43m(\u001b[49m\u001b[43mfigure\u001b[49m\u001b[43m)\u001b[49m\n\u001b[1;32m    658\u001b[0m fig_bottom \u001b[38;5;241m=\u001b[39m fig_bottoms[rows]\u001b[38;5;241m.\u001b[39mmin()\n\u001b[1;32m    659\u001b[0m fig_top \u001b[38;5;241m=\u001b[39m fig_tops[rows]\u001b[38;5;241m.\u001b[39mmax()\n",
      "File \u001b[0;32m~/uni/semplice/.venv/lib/python3.13/site-packages/matplotlib/gridspec.py:185\u001b[0m, in \u001b[0;36mGridSpecBase.get_grid_positions\u001b[0;34m(self, fig)\u001b[0m\n\u001b[1;32m    183\u001b[0m cell_widths \u001b[38;5;241m=\u001b[39m [r \u001b[38;5;241m*\u001b[39m norm \u001b[38;5;28;01mfor\u001b[39;00m r \u001b[38;5;129;01min\u001b[39;00m \u001b[38;5;28mself\u001b[39m\u001b[38;5;241m.\u001b[39m_col_width_ratios]\n\u001b[1;32m    184\u001b[0m sep_widths \u001b[38;5;241m=\u001b[39m [\u001b[38;5;241m0\u001b[39m] \u001b[38;5;241m+\u001b[39m ([sep_w] \u001b[38;5;241m*\u001b[39m (ncols\u001b[38;5;241m-\u001b[39m\u001b[38;5;241m1\u001b[39m))\n\u001b[0;32m--> 185\u001b[0m cell_ws \u001b[38;5;241m=\u001b[39m np\u001b[38;5;241m.\u001b[39mcumsum(\u001b[43mnp\u001b[49m\u001b[38;5;241;43m.\u001b[39;49m\u001b[43mcolumn_stack\u001b[49m\u001b[43m(\u001b[49m\u001b[43m[\u001b[49m\u001b[43msep_widths\u001b[49m\u001b[43m,\u001b[49m\u001b[43m \u001b[49m\u001b[43mcell_widths\u001b[49m\u001b[43m]\u001b[49m\u001b[43m)\u001b[49m\u001b[38;5;241m.\u001b[39mflat)\n\u001b[1;32m    187\u001b[0m fig_tops, fig_bottoms \u001b[38;5;241m=\u001b[39m (top \u001b[38;5;241m-\u001b[39m cell_hs)\u001b[38;5;241m.\u001b[39mreshape((\u001b[38;5;241m-\u001b[39m\u001b[38;5;241m1\u001b[39m, \u001b[38;5;241m2\u001b[39m))\u001b[38;5;241m.\u001b[39mT\n\u001b[1;32m    188\u001b[0m fig_lefts, fig_rights \u001b[38;5;241m=\u001b[39m (left \u001b[38;5;241m+\u001b[39m cell_ws)\u001b[38;5;241m.\u001b[39mreshape((\u001b[38;5;241m-\u001b[39m\u001b[38;5;241m1\u001b[39m, \u001b[38;5;241m2\u001b[39m))\u001b[38;5;241m.\u001b[39mT\n",
      "File \u001b[0;32m~/uni/semplice/.venv/lib/python3.13/site-packages/numpy/lib/_shape_base_impl.py:670\u001b[0m, in \u001b[0;36mcolumn_stack\u001b[0;34m(tup)\u001b[0m\n\u001b[1;32m    668\u001b[0m arrays \u001b[38;5;241m=\u001b[39m []\n\u001b[1;32m    669\u001b[0m \u001b[38;5;28;01mfor\u001b[39;00m v \u001b[38;5;129;01min\u001b[39;00m tup:\n\u001b[0;32m--> 670\u001b[0m     arr \u001b[38;5;241m=\u001b[39m \u001b[43masanyarray\u001b[49m\u001b[43m(\u001b[49m\u001b[43mv\u001b[49m\u001b[43m)\u001b[49m\n\u001b[1;32m    671\u001b[0m     \u001b[38;5;28;01mif\u001b[39;00m arr\u001b[38;5;241m.\u001b[39mndim \u001b[38;5;241m<\u001b[39m \u001b[38;5;241m2\u001b[39m:\n\u001b[1;32m    672\u001b[0m         arr \u001b[38;5;241m=\u001b[39m array(arr, copy\u001b[38;5;241m=\u001b[39m\u001b[38;5;28;01mNone\u001b[39;00m, subok\u001b[38;5;241m=\u001b[39m\u001b[38;5;28;01mTrue\u001b[39;00m, ndmin\u001b[38;5;241m=\u001b[39m\u001b[38;5;241m2\u001b[39m)\u001b[38;5;241m.\u001b[39mT\n",
      "\u001b[0;31mKeyboardInterrupt\u001b[0m: "
     ]
    },
    {
     "data": {
      "image/png": "[encoded data removed]",
      "text/plain": [
       "<Figure size 1000x1000 with 4 Axes>"
      ]
     },
     "metadata": {},
     "output_type": "display_data"
    }
   ],
   "source": [
    "alpha = 0 # nu = Ar^alpha\n",
    "a, b = 0.0001, 10\n",
    "\n",
    "T = 100\n",
    "dt = T/2**8\n",
    "Nsnap = 200\n",
    "dtplot = T/Nsnap\n",
    "\n",
    "\n",
    "figfolder = f\"graphics/filmini/alpha{alpha}Pe\"\n",
    "Path(figfolder).mkdir(parents=True,exist_ok=True)\n",
    "picklefile = f\"{figfolder}/curve.pkl\"\n",
    "\n",
    "\n",
    "\n",
    "eps = (b-a)/50*8\n",
    "mu = (b+a)/2\n",
    "mu = 0.01\n",
    "eps = 0.002\n",
    "f0 = lambda x: nicekernel(x,mu,eps)\n",
    "\n",
    "N = 100\n",
    "h = (b-a)/N\n",
    "Pe = h/(4*mu)\n",
    "print(Pe)\n",
    "\n",
    "ndof = 1\n",
    "\n",
    "counter = 0\n",
    "\n",
    "out = []\n",
    "\n",
    "with open(\"Yref1\",\"rb\") as f:\n",
    "    exact = pickle.load(f)\n",
    "\n",
    "with open(\"Ygood1\",\"rb\") as f:\n",
    "    good = pickle.load(f)\n",
    "\n",
    "fe = FE(ndof)\n",
    "\n",
    "Yexact_spline = make_splrep(exact[\"X\"],exact[\"Yref\"],k=ndof,s=0)\n",
    "Ygood_spline = make_splrep(good[\"X_good\"],good[\"Y_good\"],k=ndof,s=0)\n",
    "\n",
    "dYexact_spline = Yexact_spline.derivative(1)\n",
    "dYgood_spline = Ygood_spline.derivative(1)\n",
    "\n",
    "griglia = GRID(a,b,N,ndof=ndof,getM=True,fe=fe)\n",
    "A = getA(fe,griglia,adisc,constantdiffusion=False)\n",
    "\n",
    "t = 0\n",
    "\n",
    "X = griglia.globV\n",
    "\n",
    "ts = []\n",
    "\n",
    "u = f0(X)\n",
    "\n",
    "Nsteps = int(T/dt)\n",
    "cycle = 0\n",
    "grigliaconv = GRID((b+a)/2-2*eps,(b+a)/2+2*eps,10)\n",
    "\n",
    "for i in tqdm(range(Nsteps)):\n",
    "    t+=dt\n",
    "    ts = np.append(ts,t)\n",
    "    u = advance(u,dt,griglia.M,A)\n",
    "\n",
    "    if np.floor(t/dtplot) > cycle:\n",
    "        Yexact = discexact(X,t,f0,grigliaconv,alpha=alpha,approx=True)\n",
    "        if Yexact[0] > 0.1 or Yexact[-1] > 0.1:\n",
    "            break\n",
    "        Yexact_spline = make_splrep(X,Yexact,k=ndof,s=0)\n",
    "        dYexact = Yexact_spline.derivative(1)(X)\n",
    "\n",
    "        cycle += 1\n",
    "        fig, ((ax,axd), (axerr1, axderr1)) = plt.subplots(nrows=2,ncols=2,figsize=(10,10),sharex=True)\n",
    "        ax.plot(X,f0(X),\".-C1\",label=\"u(0)\")\n",
    "        u_spline = make_splrep(X,u,k=ndof,s=0)\n",
    "        du_spline = u_spline.derivative(1)\n",
    "        du = du_spline(X)\n",
    "\n",
    "        ax.plot(X,u,'.-C0',label=\"$u_h(t)$\")\n",
    "        ax.plot(X,Yexact,'--r',label=\"$u(t)$\")\n",
    "        axerr1.plot(X,u-Yexact,\".-C0\")\n",
    "        axerr1.set_xlabel(\"$r$\")\n",
    "\n",
    "        axd.plot(X,du,'.-C0',label=\"$u'_h(t)$\")\n",
    "        axd.plot(X,dYexact,'--r',label=\"$u'(t)\")\n",
    "        axderr1.plot(X,du-dYexact,\".-C0\")\n",
    "        axderr1.set_xlabel(\"$r$\")\n",
    "\n",
    "        ax.set_title(\"$u_h$ vs $u$\")\n",
    "        axd.set_title(\"$u'_h$ vs $u'$\")\n",
    "        axerr1.set_title(\"$u_h-u$\")\n",
    "        axderr1.set_title(\"$u'_h-u'$\")\n",
    "\n",
    "        fig.suptitle(f\"$\\\\alpha$={alpha} - t={t:0.2f}\")\n",
    "        ax.legend()\n",
    "        ax.legend()\n",
    "        ax.grid()\n",
    "        axd.grid()\n",
    "        axderr1.grid()\n",
    "        axerr1.grid()\n",
    "        # fix_lims(ax,(j==0))\n",
    "        filename = f\"{figfolder}/{counter:03d}.png\"\n",
    "        plt.tight_layout()\n",
    "        fig.savefig(filename)\n",
    "        plt.close()\n",
    "        counter += 1\n",
    "\n",
    "video_name = f\"{figfolder}.mp4\"\n",
    "subprocess.Popen([\n",
    "    \"ffmpeg\",\"-framerate\",\"16\", \"-i\",f\"{figfolder}/%03d.png\", \"-pix_fmt\",\"yuv420p\",video_name, \"-y\"\n",
    "])"
   ]
  },
  {
   "cell_type": "code",
   "execution_count": null,
   "metadata": {},
   "outputs": [
    {
     "name": "stderr",
     "output_type": "stream",
     "text": [
      "100%|██████████| 100/100 [00:02<00:00, 46.38it/s]\n",
      "100%|██████████| 1024/1024 [00:00<00:00, 1059.76it/s]\n"
     ]
    },
    {
     "name": "stdout",
     "output_type": "stream",
     "text": [
      "1.001973208044236\n"
     ]
    },
    {
     "name": "stderr",
     "output_type": "stream",
     "text": [
      "100%|██████████| 100/100 [00:05<00:00, 19.79it/s]\n",
      "100%|██████████| 1024/1024 [00:01<00:00, 523.95it/s]\n"
     ]
    },
    {
     "name": "stdout",
     "output_type": "stream",
     "text": [
      "1.0022635496482368\n"
     ]
    }
   ],
   "source": [
    "rmin = 10 #raggio minimo\n",
    "alpha = 0.5# nu = Ar^alpha\n",
    "a, b = 20, 80\n",
    "\n",
    "T = 10\n",
    "dt = T/2**10\n",
    "Nsteps = int(T/dt)\n",
    "dt_btw_saves = T/2**8\n",
    "time_scan = True\n",
    "\n",
    "figfolder = \"graphics/disco_esatta\"\n",
    "Path(figfolder).mkdir(parents=True,exist_ok=True)\n",
    "picklefile = f\"{figfolder}/data.pkl\"\n",
    "\n",
    "N = 100\n",
    "hs = (b-a)/Ns\n",
    "\n",
    "eps = (b-a)/50*2\n",
    "mu = (b+a)/2\n",
    "f0 = lambda x: nicekernel(x,mu,eps)\n",
    "\n",
    "grigliaconv = GRID((b+a)/2-2*eps,(b+a)/2+2*eps,10)\n",
    "\n",
    "ndofs = np.arange(1,3)\n",
    "fe = FE(ndof)\n",
    "\n",
    "counter = 0\n",
    "out = []\n",
    "\n",
    "with open(\"Yref1\",\"rb\") as f:\n",
    "    exact = pickle.load(f)\n",
    "for ndof in ndofs:\n",
    "    fe = FE(ndof)\n",
    "    griglia = GRID(a,b,N,ndof=ndof,getM=True,fe=fe)\n",
    "    A = getA(fe,griglia,adisc,constantdiffusion=False)\n",
    "\n",
    "    Yref_spline = make_splrep\n",
    "\n",
    "    t = 0\n",
    "    snapshots = []\n",
    "    ts = []\n",
    "\n",
    "    X = griglia.globV\n",
    "    u = f0(X)\n",
    "\n",
    "    cycle = 0\n",
    "    for i in tqdm(range(Nsteps)):\n",
    "        t+=dt\n",
    "        u = advance(u,dt,griglia.M,A)\n",
    "        if time_scan and np.floor(t/dt_btw_saves) >= cycle:\n",
    "            ts.append(t)\n",
    "            snapshots.append(u)\n",
    "            cycle += 1\n",
    "    Y = discexact(X,t,f0,grigliaconv,alpha=alpha,approx=True)\n",
    "    print(np.max(u)/np.max(Y))\n",
    "    fig, ax = plt.subplots()\n",
    "    # ax.plot(X,f0(X),label=\"initial\")\n",
    "    ax.plot(X,u,label=\"final\")\n",
    "    ax.plot(X,Y,'--r',label=\"exact\")\n",
    "    ax.set_title(f\"ndof={ndof}, N={N}\")\n",
    "    ax.legend()\n",
    "    ax.grid()\n",
    "    # fix_lims(ax,(i==0))\n",
    "    filename = f\"{figfolder}/{counter:03d}.png\"\n",
    "    fig.savefig(filename)\n",
    "    plt.close()\n",
    "    counter += 1\n",
    "    \n",
    "    res = {\n",
    "        \"ts\": ts,\n",
    "        \"snapshots\": snapshots,\n",
    "    }\n",
    "    out.append(res)\n",
    "\n",
    "with open(picklefile,\"wb\") as f:\n",
    "    pickle.dump(out,f)"
   ]
  },
  {
   "cell_type": "markdown",
   "metadata": {},
   "source": [
    "### Debugging errore soluzione esatta"
   ]
  },
  {
   "cell_type": "markdown",
   "metadata": {},
   "source": [
    "### Generazione soluzione fiduciale"
   ]
  },
  {
   "cell_type": "code",
   "execution_count": 51,
   "metadata": {},
   "outputs": [
    {
     "name": "stderr",
     "output_type": "stream",
     "text": [
      "                                                   \r"
     ]
    }
   ],
   "source": [
    "T = 10\n",
    "\n",
    "eps = (b-a)/50*2\n",
    "mu = (b+a)/2\n",
    "f0 = lambda x: nicekernel(x,mu,eps)\n",
    "\n",
    "counter = 0\n",
    "out = []\n",
    "ndof = 1\n",
    "fe = FE(ndof)\n",
    "griglia = GRID(a,b,N,ndof=ndof,getM=True,fe=fe)\n",
    "X = griglia.globV\n",
    "\n",
    "N = 1000\n",
    "rmin = 10 #raggio minimo \n",
    "rmax = 100\n",
    "alpha = 0 # nu = Ar^alpha\n",
    " \n",
    "a, b = rmin, rmax\n",
    "\n",
    "grigliaconvref = GRID((b+a)/2-2*eps,(b+a)/2+2*eps,1000)\n",
    "Yref = discexact(X,T,f0,grigliaconvref,alpha=alpha,approx=False,gaussdeg=6,progress=True)\n"
   ]
  },
  {
   "cell_type": "code",
   "execution_count": null,
   "metadata": {},
   "outputs": [],
   "source": [
    "out = {\n",
    "    \"X_good\": X_good,\n",
    "    \"T\": T,\n",
    "    \"Y_good\": Y_good,\n",
    "    \"a\": a,\n",
    "    \"b\": b,\n",
    "    \"alpha\": 0\n",
    "}\n",
    "if 0:\n",
    "    with open(\"Ygood1\",\"wb\") as f:\n",
    "        pickle.dump(out,f)"
   ]
  },
  {
   "cell_type": "code",
   "execution_count": null,
   "metadata": {},
   "outputs": [
    {
     "name": "stderr",
     "output_type": "stream",
     "text": [
      "                                             \r"
     ]
    }
   ],
   "source": [
    "Nconvs = 5*np.logspace(0,2,10).astype(int)\n",
    "Nconvs = [200]\n",
    "degs = np.arange(1,5)\n",
    "out = []\n",
    "include_err0 = 1\n",
    "include_err1 = 1\n",
    "for Nconv in Nconvs:\n",
    "    grigliaconv = GRID((b+a)/2-2*eps,(b+a)/2+2*eps,Nconv)\n",
    "    errs = []\n",
    "    for deg in tqdm(degs,leave=False):\n",
    "        Y = discexact(X,t,f0,grigliaconv,alpha=alpha,approx=False,gaussdeg=deg,progress=True)\n",
    "        err = np.sqrt(np.sum(include_err0*(Y-Yref)**2)+include_err1*())\n",
    "        errs.append(err)\n",
    "    errs = np.array(errs)\n",
    "    res = {\n",
    "        \"errs\": errs,\n",
    "        \"Nconv\": Nconv\n",
    "    }\n",
    "    out.append(res)\n"
   ]
  },
  {
   "cell_type": "code",
   "execution_count": 44,
   "metadata": {},
   "outputs": [
    {
     "data": {
      "image/png": "[encoded data removed]",
      "text/plain": [
       "<Figure size 640x480 with 1 Axes>"
      ]
     },
     "metadata": {},
     "output_type": "display_data"
    }
   ],
   "source": [
    "fig, ax = plt.subplots()\n",
    "for res in out:\n",
    "    ax.plot(degs,res[\"errs\"],label=f\"{res[\"Nconv\"]}\")\n",
    "    ax.axhline(0)\n",
    "ax.set_yscale(\"log\")\n",
    "ax.legend()\n",
    "# A = getA(fe,griglia,adisc,constantdiffusion=False)\n",
    "\n",
    "plt.show()"
   ]
  },
  {
   "cell_type": "markdown",
   "metadata": {},
   "source": [
    "# Appendice"
   ]
  },
  {
   "cell_type": "markdown",
   "metadata": {},
   "source": [
    "### Debugging forma quadratica analitica $\\alpha=0$"
   ]
  },
  {
   "cell_type": "markdown",
   "metadata": {},
   "source": [
    "Ho calcolato la forma esatta della forma quadratica per il caso $\\alpha=0$ e separando i contributi di $\\mu$ e $\\beta$ sono riuscito a trovare un bug nel codice. "
   ]
  },
  {
   "cell_type": "code",
   "execution_count": null,
   "metadata": {},
   "outputs": [],
   "source": [
    "ndof = 1# grado degli elementi finiti\n",
    "fe = FE(ndof)\n",
    "N = 100\n",
    "rmin = 10 #raggio minimo \n",
    "rmax = 100\n",
    "alpha = 0 # nu = Ar^alpha\n",
    " \n",
    "a, b = rmin, rmax\n",
    "griglia = GRID(a,b,N,ndof=ndof,getM=True,fe=fe)\n",
    "\n",
    "def adisc(u,v,du,dv,xL=0,dx=1):\n",
    "    #v in realtà non viene usata ma almeno c'è chiarezza\n",
    "    mu = lambda r: r**alpha\n",
    "    # mu = lambda r: 0\n",
    "    b = lambda r: -(alpha-1/2)*r**(alpha-1)\n",
    "    # b = lambda r: 0\n",
    "    xrest = lambda r: xL+r*dx # dà x vero in funzione di x di riferimento\n",
    "    return lambda r: (mu(xrest(r))*du(r)/dx-b(xrest(r))*u(r))*dv(r)\n",
    "\n",
    "A = getA(fe,griglia,adisc,constantdiffusion=False)\n",
    "\n",
    "x = griglia.V\n",
    "h = griglia.ElemSize[0]\n",
    "\n",
    "# solo diffusione (matrice standard perché in questo caso è costante)\n",
    "Amu = np.zeros((N+1,N+1))\n",
    "for i in range(N):\n",
    "    for j in range(N):\n",
    "        if i==j:\n",
    "            Amu[i,j] = 2/h #-1/h+ 1/(2*h**2)*(x[i-1]*np.log(x[i]/x[i-1])+x[i+1]*np.log(x[i+1]/x[i]))\n",
    "        elif i==j+1:\n",
    "            Amu[i,j] = -1/h #-1/(2*h) 1/(2*h**2)*x[i]*np.log(x[i]/x[j])\n",
    "        elif j==i+1:\n",
    "            Amu[i,j] = -1/h #+1/(2*h) 1/(2*h**2)*x[i]*np.log(x[i]/x[j])\n",
    "\n",
    "# matrice completa\n",
    "At = np.zeros((N+1,N+1))\n",
    "for i in range(N):\n",
    "    for j in range(N):\n",
    "        if i==j:\n",
    "            At[i,j] = 2/h -1/h+ 1/(2*h**2)*(x[i-1]*np.log(x[i]/x[i-1])+x[i+1]*np.log(x[i+1]/x[i]))\n",
    "        elif i==j+1:\n",
    "            At[i,j] = -1/h +1/(2*h) - 1/(2*h**2)*x[i]*np.log(x[i]/x[j])\n",
    "        elif j==i+1:\n",
    "            At[i,j] = -1/h +1/(2*h) + 1/(2*h**2)*x[i]*np.log(x[i]/x[j])\n",
    "\n",
    "Amu = Amu[1:-1,1:-1]\n",
    "At = At[1:-1,1:-1]\n",
    "Ab = At-Amu\n",
    "fig, ax = plt.subplots()\n",
    "pos = ax.imshow(Ab-A)\n",
    "fig.colorbar(pos)\n",
    "plt.show()\n",
    "\n",
    "up, center, down = [np.diag(At-A,k=k)/np.diag(Ab,k=k) for k in [-1,0,1]]\n",
    "\n",
    "fig, ax = plt.subplots()\n",
    "ax.plot(up,label=\"up\")\n",
    "ax.plot(center,label=\"center\")\n",
    "ax.plot(down,label=\"down\")\n",
    "ax.legend()\n",
    "plt.show()"
   ]
  },
  {
   "cell_type": "markdown",
   "metadata": {},
   "source": [
    "### Convergenza nel calcolo di A"
   ]
  },
  {
   "cell_type": "markdown",
   "metadata": {},
   "source": [
    "Si vede che con quadratura di grado 4 si raggiunge sempre il plateau."
   ]
  },
  {
   "cell_type": "code",
   "execution_count": null,
   "metadata": {},
   "outputs": [],
   "source": [
    "fe = FE(ndof)\n",
    "N = 10\n",
    "rmin = 10 #raggio minimo \n",
    "rmax = 100\n",
    "alpha = 1/2 # nu = Ar^alpha\n",
    " \n",
    "a, b = rmin, rmax\n",
    "ndofs = np.arange(1,10)\n",
    "degs = np.arange(1,10)\n",
    "out = []\n",
    "for ndof in ndofs:\n",
    "    griglia = GRID(a,b,N,ndof=ndof,getM=True,fe=fe)\n",
    "    Aref = getA(fe,griglia,adisc,constantdiffusion=False,gaussdeg=10)\n",
    "    errs = []\n",
    "    for deg in tqdm(degs,leave=False):\n",
    "        A = getA(fe,griglia,adisc,constantdiffusion=False)\n",
    "        err = np.sqrt(np.sum((A-Aref)**2))\n",
    "        errs.append(err)\n",
    "    errs = np.array(errs)\n",
    "    res = {\n",
    "        \"errs\": errs,\n",
    "        \"ndof\": ndof\n",
    "    }\n",
    "    out.append(res)\n"
   ]
  },
  {
   "cell_type": "code",
   "execution_count": null,
   "metadata": {},
   "outputs": [
    {
     "data": {
      "image/png": "[encoded data removed]",
      "text/plain": [
       "<Figure size 640x480 with 1 Axes>"
      ]
     },
     "metadata": {},
     "output_type": "display_data"
    }
   ],
   "source": [
    "fig, ax = plt.subplots()\n",
    "for res in out:\n",
    "    ax.plot(degs,res[\"errs\"],label=f\"{res[\"ndof\"]}\")\n",
    "    ax.axhline(0)\n",
    "ax.set_yscale(\"log\")\n",
    "ax.legend()\n",
    "# A = getA(fe,griglia,adisc,constantdiffusion=False)\n",
    "\n",
    "plt.show()"
   ]
  },
  {
   "cell_type": "markdown",
   "metadata": {},
   "source": [
    "## Test preliminari su equazione del calore"
   ]
  },
  {
   "cell_type": "markdown",
   "metadata": {},
   "source": [
    "### Soluzione esatta equazione del calore"
   ]
  },
  {
   "cell_type": "code",
   "execution_count": null,
   "metadata": {},
   "outputs": [],
   "source": [
    "def aheat(u,v,du,dv,xL=0,dx=1):\n",
    "    return lambda x: du(x)*dv(x)\n",
    "\n",
    "def heatkernel(x,t,k):\n",
    "    # funzione di green dell'equazione del calore, k diffusività\n",
    "    return x*0 if t==0 else np.exp(-x**2/(4*k*t))/np.sqrt(4*np.pi*k*t)\n",
    "\n",
    "def heatexact(x,t,k,g,grigliaconv):\n",
    "    # soluzione esatta equazione del calore con integrazione gaussiana\n",
    "    y = x*0\n",
    "    for i in tqdm(range(len(x))):\n",
    "        xvar = x[i]\n",
    "        y[i] = grigliaconv.integrate(lambda y: g(y)*heatkernel(xvar-y,t,k))\n",
    "    return y\n",
    "    \n",
    "def heatexactconv(x,t,k,g):\n",
    "    # soluzione esatta equazione del calore con convoluzione di scipy\n",
    "    kernel = heatkernel(x-(b-a)/2,t,k)\n",
    "    G = g(X)\n",
    "    return convolve(G,kernel,mode=\"same\")/sum(kernel)"
   ]
  },
  {
   "cell_type": "markdown",
   "metadata": {},
   "source": [
    "### Test su equazione del calore\n",
    "La miglior condizione iniziale è quella $C^2$ a supporto compatto per velocizzare il calcolo della soluzione esatta (collo di bottiglia)."
   ]
  },
  {
   "cell_type": "code",
   "execution_count": null,
   "metadata": {},
   "outputs": [
    {
     "name": "stderr",
     "output_type": "stream",
     "text": [
      "100%|██████████| 300/300 [00:00<00:00, 871.14it/s]\n",
      "100%|██████████| 101/101 [00:00<00:00, 641.26it/s]\n"
     ]
    },
    {
     "data": {
      "image/png": "[encoded data removed]",
      "text/plain": [
       "<Figure size 640x480 with 1 Axes>"
      ]
     },
     "metadata": {},
     "output_type": "display_data"
    }
   ],
   "source": [
    "ndof = 4\n",
    "a, b = 0, 1\n",
    "fe = FE(ndof)\n",
    "griglia = GRID(a,b,25,ndof=ndof,getM=True,fe=fe)\n",
    "A = getA(fe,griglia,aheat,constantdiffusion=True)\n",
    "\n",
    "p = fe.Pol\n",
    "dt = 0.00001\n",
    "t = 0\n",
    "eps = (b-a)/50\n",
    "Nsteps = 300\n",
    "\n",
    "# f0 = lambda x: np.exp(-(x-(a+b)/2)**2/eps**2)\n",
    "# f0 = lambda x: gauss(x,(b-a)*0.4,eps)+ gauss(x, (b-a)*0.6,eps) \n",
    "f0 = lambda x: nicekernel(x,(b+a)/2,eps)\n",
    "# f0 = lambda x: waterbag(x,(a+b)/2,eps)\n",
    "X = griglia.globV\n",
    "u = f0(X)\n",
    "ts = []\n",
    "fig, ax = plt.subplots()\n",
    "ax.plot(X,u,label=\"initial\")\n",
    "for i in tqdm(range(Nsteps)):\n",
    "    t+=dt\n",
    "    ts = np.append(ts,t)\n",
    "    u = advance(u,dt,griglia.M,A)\n",
    "ax.plot(X,u,label=\"final\")\n",
    "k=1\n",
    "\n",
    "grigliaconv = GRID((b+a)/2-2*eps,(b+a)/2+2*eps,5)\n",
    "Y = heatexact(X,t,k,f0,grigliaconv)\n",
    "ax.plot(X,Y,label=\"exact final\")\n",
    "\n",
    "if t==0:\n",
    "    t=1\n",
    "# Yc = heatexactconv(X,t,k,f0)\n",
    "# ax.plot(X,Yc,label=\"convolve final\")\n",
    "ax.legend()\n",
    "\n",
    "plt.show()"
   ]
  },
  {
   "cell_type": "markdown",
   "metadata": {},
   "source": [
    "## Test convergenza su equazione del calore"
   ]
  },
  {
   "cell_type": "markdown",
   "metadata": {},
   "source": [
    "### Convergenza spaziale"
   ]
  },
  {
   "cell_type": "code",
   "execution_count": null,
   "metadata": {},
   "outputs": [
    {
     "name": "stderr",
     "output_type": "stream",
     "text": [
      "  0%|          | 0/301 [00:00<?, ?it/s]"
     ]
    },
    {
     "name": "stderr",
     "output_type": "stream",
     "text": [
      "100%|██████████| 301/301 [00:05<00:00, 57.91it/s]\n",
      "100%|██████████| 51/51 [00:00<00:00, 64.53it/s]\n",
      "100%|██████████| 56/56 [00:00<00:00, 65.34it/s]\n",
      "100%|██████████| 61/61 [00:00<00:00, 64.55it/s]\n",
      "100%|██████████| 71/71 [00:01<00:00, 57.90it/s]\n",
      "100%|██████████| 81/81 [00:01<00:00, 64.92it/s]\n",
      "100%|██████████| 91/91 [00:01<00:00, 61.66it/s]\n",
      "100%|██████████| 101/101 [00:01<00:00, 57.87it/s]\n",
      "100%|██████████| 116/116 [00:01<00:00, 63.49it/s]\n",
      "100%|██████████| 131/131 [00:02<00:00, 59.17it/s]\n",
      "100%|██████████| 146/146 [00:02<00:00, 59.70it/s]\n",
      "100%|██████████| 166/166 [00:02<00:00, 58.90it/s]\n",
      "100%|██████████| 186/186 [00:02<00:00, 62.75it/s]\n",
      "100%|██████████| 211/211 [00:03<00:00, 64.52it/s]\n",
      "100%|██████████| 241/241 [00:03<00:00, 61.59it/s]\n",
      "100%|██████████| 271/271 [00:04<00:00, 61.81it/s]\n",
      "100%|██████████| 306/306 [00:04<00:00, 63.52it/s]\n",
      "100%|██████████| 346/346 [00:05<00:00, 62.77it/s]\n",
      "100%|██████████| 391/391 [00:06<00:00, 61.74it/s]\n",
      "100%|██████████| 441/441 [00:06<00:00, 64.28it/s]\n",
      "100%|██████████| 501/501 [00:08<00:00, 61.66it/s]\n",
      "100%|██████████| 101/101 [00:01<00:00, 64.33it/s]\n",
      "100%|██████████| 111/111 [00:01<00:00, 64.61it/s]\n",
      "100%|██████████| 121/121 [00:01<00:00, 62.19it/s]\n",
      "100%|██████████| 141/141 [00:02<00:00, 64.02it/s]\n",
      "100%|██████████| 161/161 [00:02<00:00, 62.53it/s]\n",
      "100%|██████████| 181/181 [00:02<00:00, 68.62it/s]\n",
      "100%|██████████| 201/201 [00:03<00:00, 66.33it/s]\n",
      "100%|██████████| 231/231 [00:03<00:00, 64.73it/s]\n",
      "100%|██████████| 261/261 [00:03<00:00, 65.90it/s]\n",
      "100%|██████████| 291/291 [00:04<00:00, 65.67it/s]\n",
      "100%|██████████| 331/331 [00:05<00:00, 60.71it/s]\n",
      "100%|██████████| 371/371 [00:05<00:00, 64.72it/s]\n",
      "100%|██████████| 421/421 [00:06<00:00, 63.11it/s]\n",
      "100%|██████████| 481/481 [00:07<00:00, 67.74it/s]\n",
      "100%|██████████| 541/541 [00:08<00:00, 65.18it/s]\n",
      "100%|██████████| 611/611 [00:09<00:00, 65.30it/s]\n",
      "100%|██████████| 691/691 [00:11<00:00, 62.81it/s]\n",
      "100%|██████████| 781/781 [00:12<00:00, 65.07it/s]\n",
      "100%|██████████| 881/881 [00:12<00:00, 68.07it/s]\n",
      "100%|██████████| 1001/1001 [00:15<00:00, 66.63it/s]\n",
      "100%|██████████| 151/151 [00:02<00:00, 64.26it/s]\n",
      "100%|██████████| 166/166 [00:02<00:00, 63.29it/s]\n",
      "100%|██████████| 181/181 [00:02<00:00, 67.87it/s]\n",
      "100%|██████████| 211/211 [00:03<00:00, 69.42it/s]\n",
      "100%|██████████| 241/241 [00:03<00:00, 70.23it/s]\n",
      "100%|██████████| 271/271 [00:03<00:00, 71.54it/s]\n",
      "100%|██████████| 301/301 [00:04<00:00, 69.94it/s]\n",
      "100%|██████████| 346/346 [00:04<00:00, 71.04it/s]\n",
      "100%|██████████| 391/391 [00:05<00:00, 71.92it/s]\n",
      "100%|██████████| 436/436 [00:06<00:00, 69.82it/s]\n",
      "100%|██████████| 496/496 [00:07<00:00, 69.84it/s]\n",
      "100%|██████████| 556/556 [00:08<00:00, 67.97it/s]\n",
      "100%|██████████| 631/631 [00:09<00:00, 69.36it/s]\n",
      "100%|██████████| 721/721 [00:10<00:00, 70.08it/s]\n",
      "100%|██████████| 811/811 [00:11<00:00, 69.67it/s]\n",
      "100%|██████████| 916/916 [00:13<00:00, 65.47it/s]\n",
      "100%|██████████| 1036/1036 [00:15<00:00, 66.17it/s]\n",
      "100%|██████████| 1171/1171 [00:18<00:00, 63.09it/s]\n",
      "100%|██████████| 1321/1321 [00:21<00:00, 60.88it/s]\n",
      "100%|██████████| 1501/1501 [00:23<00:00, 63.66it/s]\n",
      "100%|██████████| 201/201 [00:03<00:00, 62.42it/s]\n",
      "100%|██████████| 221/221 [00:03<00:00, 64.38it/s]\n",
      "100%|██████████| 241/241 [00:03<00:00, 62.80it/s]\n",
      "100%|██████████| 281/281 [00:04<00:00, 62.36it/s]\n",
      "100%|██████████| 321/321 [00:05<00:00, 61.77it/s]\n",
      "100%|██████████| 361/361 [00:05<00:00, 62.42it/s]\n",
      "100%|██████████| 401/401 [00:06<00:00, 61.92it/s]\n",
      "100%|██████████| 461/461 [00:07<00:00, 60.57it/s]\n",
      "100%|██████████| 521/521 [00:07<00:00, 66.23it/s]\n",
      "100%|██████████| 581/581 [00:08<00:00, 64.85it/s]\n",
      "100%|██████████| 661/661 [00:10<00:00, 62.50it/s]\n",
      "100%|██████████| 741/741 [00:29<00:00, 24.94it/s]\n",
      "100%|██████████| 841/841 [00:14<00:00, 59.06it/s]\n",
      "100%|██████████| 961/961 [00:16<00:00, 59.71it/s]\n",
      "100%|██████████| 1081/1081 [00:18<00:00, 59.51it/s]\n",
      "100%|██████████| 1221/1221 [00:20<00:00, 58.54it/s]\n",
      "100%|██████████| 1381/1381 [00:20<00:00, 66.42it/s]\n",
      "100%|██████████| 1561/1561 [00:29<00:00, 53.49it/s]\n",
      "100%|██████████| 1761/1761 [00:29<00:00, 59.45it/s]\n",
      "100%|██████████| 2001/2001 [00:41<00:00, 48.67it/s]\n"
     ]
    },
    {
     "ename": "FileNotFoundError",
     "evalue": "[Errno 2] No such file or directory: 'h.pickle'",
     "output_type": "error",
     "traceback": [
      "\u001b[0;31m---------------------------------------------------------------------------\u001b[0m\n",
      "\n",
      "\u001b[0;31mFileNotFoundError\u001b[0m                         Traceback (most recent call last)\n",
      "\n",
      "Cell \u001b[0;32mIn[39], line 62\u001b[0m\n",
      "\n",
      "\u001b[1;32m     59\u001b[0m     errs \u001b[38;5;241m=\u001b[39m np\u001b[38;5;241m.\u001b[39marray(errs)\n",
      "\n",
      "\u001b[1;32m     60\u001b[0m     errs_ndofs\u001b[38;5;241m.\u001b[39mappend(errs)\n",
      "\n",
      "\u001b[0;32m---> 62\u001b[0m \u001b[38;5;28;01mwith\u001b[39;00m \u001b[38;5;28;43mopen\u001b[39;49m\u001b[43m(\u001b[49m\u001b[38;5;124;43m\"\u001b[39;49m\u001b[38;5;124;43mh.pickle\u001b[39;49m\u001b[38;5;124;43m\"\u001b[39;49m\u001b[43m)\u001b[49m \u001b[38;5;28;01mas\u001b[39;00m f:\n",
      "\n",
      "\u001b[1;32m     63\u001b[0m     f\u001b[38;5;241m.\u001b[39mdump(errs,f)\n",
      "\n",
      "\n",
      "\n",
      "File \u001b[0;32m~/uni/semplice/.venv/lib/python3.13/site-packages/IPython/core/interactiveshell.py:324\u001b[0m, in \u001b[0;36m_modified_open\u001b[0;34m(file, *args, **kwargs)\u001b[0m\n",
      "\n",
      "\u001b[1;32m    317\u001b[0m \u001b[38;5;28;01mif\u001b[39;00m file \u001b[38;5;129;01min\u001b[39;00m {\u001b[38;5;241m0\u001b[39m, \u001b[38;5;241m1\u001b[39m, \u001b[38;5;241m2\u001b[39m}:\n",
      "\n",
      "\u001b[1;32m    318\u001b[0m     \u001b[38;5;28;01mraise\u001b[39;00m \u001b[38;5;167;01mValueError\u001b[39;00m(\n",
      "\n",
      "\u001b[1;32m    319\u001b[0m         \u001b[38;5;124mf\u001b[39m\u001b[38;5;124m\"\u001b[39m\u001b[38;5;124mIPython won\u001b[39m\u001b[38;5;124m'\u001b[39m\u001b[38;5;124mt let you open fd=\u001b[39m\u001b[38;5;132;01m{\u001b[39;00mfile\u001b[38;5;132;01m}\u001b[39;00m\u001b[38;5;124m by default \u001b[39m\u001b[38;5;124m\"\u001b[39m\n",
      "\n",
      "\u001b[1;32m    320\u001b[0m         \u001b[38;5;124m\"\u001b[39m\u001b[38;5;124mas it is likely to crash IPython. If you know what you are doing, \u001b[39m\u001b[38;5;124m\"\u001b[39m\n",
      "\n",
      "\u001b[1;32m    321\u001b[0m         \u001b[38;5;124m\"\u001b[39m\u001b[38;5;124myou can use builtins\u001b[39m\u001b[38;5;124m'\u001b[39m\u001b[38;5;124m open.\u001b[39m\u001b[38;5;124m\"\u001b[39m\n",
      "\n",
      "\u001b[1;32m    322\u001b[0m     )\n",
      "\n",
      "\u001b[0;32m--> 324\u001b[0m \u001b[38;5;28;01mreturn\u001b[39;00m \u001b[43mio_open\u001b[49m\u001b[43m(\u001b[49m\u001b[43mfile\u001b[49m\u001b[43m,\u001b[49m\u001b[43m \u001b[49m\u001b[38;5;241;43m*\u001b[39;49m\u001b[43margs\u001b[49m\u001b[43m,\u001b[49m\u001b[43m \u001b[49m\u001b[38;5;241;43m*\u001b[39;49m\u001b[38;5;241;43m*\u001b[39;49m\u001b[43mkwargs\u001b[49m\u001b[43m)\u001b[49m\n",
      "\n",
      "\n",
      "\n",
      "\u001b[0;31mFileNotFoundError\u001b[0m: [Errno 2] No such file or directory: 'h.pickle'"
     ]
    }
   ],
   "source": [
    "a, b = 0, 1\n",
    "dt = 2**1*1e-6\n",
    "T = 2**12*1e-6\n",
    "Nsteps = int(T/dt)\n",
    "\n",
    "figfolder = \"graphics/convergenza_spaziale\"\n",
    "Path(figfolder).mkdir(parents=True,exist_ok=True)\n",
    "\n",
    "Ns = 5*np.logspace(1,2,10).astype(int)\n",
    "hs = (b-a)/Ns\n",
    "\n",
    "eps = (b-a)/50*2\n",
    "f0 = lambda x: nicekernel(x,(b+a)/2,eps)\n",
    "grigliaconv = GRID((b+a)/2-2*eps,(b+a)/2+2*eps,50)\n",
    "\n",
    "ndofs = np.arange(1,5)\n",
    "fe = FE(ndof)\n",
    "\n",
    "k = 1\n",
    "\n",
    "errs_ndofs = []\n",
    "counter = 0\n",
    "for ndof in ndofs:\n",
    "    fe = FE(ndof)\n",
    "    errs = []\n",
    "\n",
    "    for j, N in enumerate(Ns):\n",
    "        griglia = GRID(a,b,N,ndof=ndof,getM=True,fe=fe)\n",
    "        A = getA(fe,griglia,aheat,constantdiffusion=True)\n",
    "        \n",
    "        t = 0\n",
    "\n",
    "        X = griglia.globV\n",
    "        u = f0(X)\n",
    "        ts = []\n",
    "        fig, ax = plt.subplots()\n",
    "        ax.plot(X,u,label=\"initial\")\n",
    "        for i in range(Nsteps):\n",
    "            t+=dt\n",
    "            ts = np.append(ts,t)\n",
    "            u = advance(u,dt*(b-a),griglia.M,A)\n",
    "        \n",
    "        Y = heatexact(X,t,k,f0,grigliaconv)\n",
    "        err = np.sqrt(np.sum((u-Y)**2))\n",
    "        errs.append(err)\n",
    "        ax.plot(X,u,label=\"final\")\n",
    "        ax.plot(X,Y,label=\"exact final\")\n",
    "        ax.set_title(f\"ndof={ndof}, N={N}\")\n",
    "        ax.legend()\n",
    "        ax.grid()\n",
    "        filename = f\"{figfolder}/{counter:03d}.png\"\n",
    "        fig.savefig(filename)\n",
    "        plt.close()\n",
    "        counter += 1\n",
    "\n",
    "    errs = np.array(errs)\n",
    "    errs_ndofs.append(errs)\n",
    "\n",
    "with open(\"h.pkl\",\"wb\") as f:\n",
    "    pickle.dump(errs,f)"
   ]
  },
  {
   "cell_type": "code",
   "execution_count": null,
   "metadata": {},
   "outputs": [
    {
     "data": {
      "image/png": "[encoded data removed]",
      "text/plain": [
       "<Figure size 640x480 with 1 Axes>"
      ]
     },
     "metadata": {},
     "output_type": "display_data"
    }
   ],
   "source": [
    "with open(\"h.pkl\",\"rb\") as f:\n",
    "    errs = pickle.load(f)\n",
    "\n",
    "fig, ax = plt.subplots()\n",
    "\n",
    "for errs in errs_ndofs:\n",
    "    Xfit = np.log10(hs)\n",
    "    Yfit = np.log10(errs)\n",
    "    popt, _ = curve_fit(line,Xfit,Yfit)\n",
    "    ax.plot(hs,errs,'.-')\n",
    "    ax.plot(hs,10**line(Xfit,*popt),'--r',label=f\"m={popt[0]:0.2f}\")\n",
    "ax.set_xscale(\"log\")\n",
    "ax.set_yscale(\"log\")\n",
    "ax.grid()\n",
    "ax.legend()\n",
    "plt.show()"
   ]
  },
  {
   "cell_type": "code",
   "execution_count": null,
   "metadata": {},
   "outputs": [
    {
     "data": {
      "image/png": "[encoded data removed]",
      "text/plain": [
       "<Figure size 640x480 with 1 Axes>"
      ]
     },
     "metadata": {},
     "output_type": "display_data"
    }
   ],
   "source": [
    "fig, ax = plt.subplots()\n",
    "Xfit = np.log10(hs)\n",
    "Yfit = np.log10(errs)\n",
    "# popt, _ = curve_fit(line,Xfit,Yfit)\n",
    "ax.plot(hs,errs,'.-C0')\n",
    "# ax.plot(hs,10**line(hs,*popt),'--C1')\n",
    "ax.set_xscale(\"log\")\n",
    "ax.set_yscale(\"log\")\n",
    "ax.grid()\n",
    "plt.show()"
   ]
  }
 ],
 "metadata": {
  "kernelspec": {
   "display_name": ".venv",
   "language": "python",
   "name": "python3"
  },
  "language_info": {
   "codemirror_mode": {
    "name": "ipython",
    "version": 3
   },
   "file_extension": ".py",
   "mimetype": "text/x-python",
   "name": "python",
   "nbconvert_exporter": "python",
   "pygments_lexer": "ipython3",
   "version": "3.13.7"
  }
 },
 "nbformat": 4,
 "nbformat_minor": 2
}
